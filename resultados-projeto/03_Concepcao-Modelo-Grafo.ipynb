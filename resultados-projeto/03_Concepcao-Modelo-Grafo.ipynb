{
 "cells": [
  {
   "cell_type": "markdown",
   "metadata": {
    "slideshow": {
     "slide_type": "slide"
    }
   },
   "source": [
    "## Trabalho de Conclusão de Curso - TCC\n",
    "#### Turma - DSA T212\n",
    "#### Aluno : Drausio Gomes dos Santos\n",
    "#### Orientadora: Gabrielle Maria Romeiro Lombardi\n",
    "#### Tema: Construção e uso de modelos de grafos para representação e análise da estrutura organizacional da administração pública federal.\n",
    "### Resultados do projeto"
   ]
  },
  {
   "cell_type": "markdown",
   "metadata": {
    "colab_type": "text",
    "id": "lvn2tZMuCCqh",
    "slideshow": {
     "slide_type": "slide"
    },
    "tags": []
   },
   "source": [
    "### Etapa 3: Concepção do Modelo de Grafo\n",
    "<p> Definição do modelo de grafo que atenda ao objetivo do trabalho, ou seja, representações estáticas e temporais de uma estrutura organizacional.</p>"
   ]
  },
  {
   "cell_type": "markdown",
   "metadata": {},
   "source": [
    "<img src=\"ModeloGrafoUO.png\">"
   ]
  }
 ],
 "metadata": {
  "celltoolbar": "Slideshow",
  "colab": {
   "collapsed_sections": [],
   "name": "FonteDeDados.ipynb",
   "provenance": []
  },
  "kernelspec": {
   "display_name": "Python 3 (ipykernel)",
   "language": "python",
   "name": "python3"
  },
  "language_info": {
   "codemirror_mode": {
    "name": "ipython",
    "version": 3
   },
   "file_extension": ".py",
   "mimetype": "text/x-python",
   "name": "python",
   "nbconvert_exporter": "python",
   "pygments_lexer": "ipython3",
   "version": "3.9.12"
  }
 },
 "nbformat": 4,
 "nbformat_minor": 4
}
