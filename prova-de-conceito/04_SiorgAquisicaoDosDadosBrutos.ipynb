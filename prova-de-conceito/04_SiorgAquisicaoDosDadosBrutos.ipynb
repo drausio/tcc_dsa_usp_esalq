{
 "cells": [
  {
   "cell_type": "markdown",
   "metadata": {
    "slideshow": {
     "slide_type": "slide"
    },
    "tags": []
   },
   "source": [
    "# TCC - DSA T212 - Prova de Conceito"
   ]
  },
  {
   "cell_type": "markdown",
   "metadata": {
    "colab_type": "text",
    "id": "lvn2tZMuCCqh",
    "slideshow": {
     "slide_type": "slide"
    },
    "tags": []
   },
   "source": [
    "## **Buscando os dados na Portal Dados Abertos** [Dados Abertos gov.br](http://dados.gov.br) - SIORG \n",
    "\n",
    "| API - endpoint      | URL |\n",
    "| ----------- | ----------- |\n",
    "| [Órgãos Entidades - Completa]| (http://estruturaorganizacional.dados.gov.br/doc/orgao-entidade/completa)|\n",
    "| [Órgãos Entidades - Resumida]|(http://estruturaorganizacional.dados.gov.br/doc/orgao-entidade/resumida)|\n",
    "| [Unidades - Completa]| (http://estruturaorganizacional.dados.gov.br/doc/estrutura-organizacional/completa)|\n",
    "| [Unidades - Resumida]|(http://estruturaorganizacional.dados.gov.br/doc/estrutura-organizacional/resumida)|\n",
    "| [Estrutura Organizacional - Alterações]| (http://estruturaorganizacional.dados.gov.br/doc/estrutura-organizacional/alteracoes?versaoReferencia=253485)|\n",
    "\n"
   ]
  },
  {
   "cell_type": "markdown",
   "metadata": {
    "slideshow": {
     "slide_type": "subslide"
    }
   },
   "source": [
    "## Parâmetros iniciais do caderno notebook"
   ]
  },
  {
   "cell_type": "code",
   "execution_count": 13,
   "metadata": {
    "slideshow": {
     "slide_type": "subslide"
    }
   },
   "outputs": [],
   "source": [
    "#configuração da dimensões da tela de apresentação\n",
    "from notebook.services.config import ConfigManager\n",
    "cm = ConfigManager()\n",
    "\n",
    "#defina as dimensões da apresentação.\n",
    "cm.update('livereveal', {\n",
    "              'width': 1000,\n",
    "              'height': 600,\n",
    "              'scroll': True,\n",
    "         })\n",
    "base_path = 'C:/projetos/prova-de-conceito/dados/'\n",
    "#base_path = '/content/drive/My Drive/Colab Notebooks/'\n",
    "url_base_siorg = \"http://estruturaorganizacional.dados.gov.br/doc/\"\n"
   ]
  },
  {
   "cell_type": "markdown",
   "metadata": {
    "colab_type": "text",
    "id": "aWPEHDOcIeVB",
    "slideshow": {
     "slide_type": "slide"
    }
   },
   "source": [
    "### Importando as bibliotecas\n"
   ]
  },
  {
   "cell_type": "code",
   "execution_count": 14,
   "metadata": {
    "colab": {
     "base_uri": "https://localhost:8080/",
     "height": 52
    },
    "colab_type": "code",
    "id": "NwULeKAQxzqx",
    "outputId": "a60455b6-b1d8-4867-a3a6-d64f4a070066",
    "slideshow": {
     "slide_type": "slide"
    }
   },
   "outputs": [],
   "source": [
    "import os\n",
    "\n",
    "import requests\n",
    "\n",
    "import os\n",
    "from os import listdir\n",
    "from os.path import isfile, join\n",
    "import time\n",
    "from datetime import datetime\n",
    "import pytz\n",
    "  "
   ]
  },
  {
   "cell_type": "markdown",
   "metadata": {
    "slideshow": {
     "slide_type": "slide"
    }
   },
   "source": [
    "### Funções utilizadas"
   ]
  },
  {
   "cell_type": "code",
   "execution_count": 15,
   "metadata": {
    "slideshow": {
     "slide_type": "slide"
    }
   },
   "outputs": [],
   "source": [
    "class Main:     \n",
    "    def show_current_time(self):\n",
    "        ini = time.time()\n",
    "        tz_SP = pytz.timezone('America/Sao_Paulo') \n",
    "        now = datetime.now(tz_SP)\n",
    "        current_time = now.strftime(\"%d/%m/%Y %H:%M:%S\")\n",
    "        print(\"Current Time =\", current_time)  "
   ]
  },
  {
   "cell_type": "markdown",
   "metadata": {
    "colab_type": "text",
    "id": "Pjy5DcZ-yBCk",
    "slideshow": {
     "slide_type": "slide"
    }
   },
   "source": [
    "### Montando a estrutura de diretórios"
   ]
  },
  {
   "cell_type": "code",
   "execution_count": 16,
   "metadata": {
    "colab": {
     "base_uri": "https://localhost:8080/",
     "height": 69
    },
    "colab_type": "code",
    "id": "tWcq17pbylBE",
    "outputId": "f35815f2-0db1-40e0-eee9-47b455c5218b",
    "slideshow": {
     "slide_type": "slide"
    },
    "tags": []
   },
   "outputs": [
    {
     "name": "stdout",
     "output_type": "stream",
     "text": [
      "C:/projetos/prova-de-conceito/dados/\n",
      "Diretório C:/projetos/prova-de-conceito/dados/siorg já existe.\n",
      "Término da criação da árvore de diretórios.\n"
     ]
    }
   ],
   "source": [
    "try:  \n",
    "    print(base_path)\n",
    "    os.chdir(base_path)\n",
    "    dirname = \"siorg\"\n",
    "    isdir = os.path.isdir(base_path+dirname) \n",
    "    if not isdir:\n",
    "        print(\"criando diretório dou em : \"+ base_path+dirname)\n",
    "        os.mkdir(dirname)\n",
    "    else:\n",
    "        print(\"Diretório \" + base_path + dirname + \" já existe.\")\n",
    "    path = base_path+dirname+\"/\"\n",
    "    os.chdir(path)   \n",
    "       \n",
    "except:\n",
    "      print(\"Erro ao criar Diretório \" + base_path + dirname +\" .\")\n",
    "print(\"Término da criação da árvore de diretórios.\") "
   ]
  },
  {
   "cell_type": "markdown",
   "metadata": {
    "colab_type": "text",
    "id": "6QGo5f4B1nHC",
    "slideshow": {
     "slide_type": "slide"
    }
   },
   "source": [
    "### Carregamento dos arquivos .json  da base SIORG do portal de dados abertos do governo federal"
   ]
  },
  {
   "cell_type": "code",
   "execution_count": 18,
   "metadata": {
    "colab": {
     "base_uri": "https://localhost:8080/",
     "height": 193
    },
    "colab_type": "code",
    "id": "GqUpD8U8pIY4",
    "outputId": "6fdf6d6f-9553-4f51-9490-fd69cfbf6e1b",
    "scrolled": true,
    "slideshow": {
     "slide_type": "-"
    }
   },
   "outputs": [
    {
     "name": "stdout",
     "output_type": "stream",
     "text": [
      "Current Time = 16/09/2022 20:35:52\n"
     ]
    },
    {
     "ename": "TypeError",
     "evalue": "write() argument must be str, not bytes",
     "output_type": "error",
     "traceback": [
      "\u001b[1;31m---------------------------------------------------------------------------\u001b[0m",
      "\u001b[1;31mTypeError\u001b[0m                                 Traceback (most recent call last)",
      "Input \u001b[1;32mIn [21]\u001b[0m, in \u001b[0;36m<cell line: 10>\u001b[1;34m()\u001b[0m\n\u001b[0;32m     12\u001b[0m \u001b[38;5;66;03m#try:        \u001b[39;00m\n\u001b[0;32m     13\u001b[0m response \u001b[38;5;241m=\u001b[39m requests\u001b[38;5;241m.\u001b[39mget(urlopen)\n\u001b[1;32m---> 14\u001b[0m \u001b[38;5;28;43mopen\u001b[39;49m\u001b[43m(\u001b[49m\u001b[43mfile\u001b[49m\u001b[38;5;241;43m=\u001b[39;49m\u001b[43mapi\u001b[49m\u001b[38;5;241;43m.\u001b[39;49m\u001b[43msplit\u001b[49m\u001b[43m(\u001b[49m\u001b[38;5;124;43m\"\u001b[39;49m\u001b[38;5;124;43m?\u001b[39;49m\u001b[38;5;124;43m\"\u001b[39;49m\u001b[43m)\u001b[49m\u001b[43m[\u001b[49m\u001b[38;5;241;43m0\u001b[39;49m\u001b[43m]\u001b[49m\u001b[38;5;241;43m.\u001b[39;49m\u001b[43mreplace\u001b[49m\u001b[43m(\u001b[49m\u001b[38;5;124;43m\"\u001b[39;49m\u001b[38;5;124;43m/\u001b[39;49m\u001b[38;5;124;43m\"\u001b[39;49m\u001b[43m,\u001b[49m\u001b[38;5;124;43m\"\u001b[39;49m\u001b[38;5;124;43m-\u001b[39;49m\u001b[38;5;124;43m\"\u001b[39;49m\u001b[43m)\u001b[49m\u001b[38;5;241;43m+\u001b[39;49m\u001b[38;5;124;43m\"\u001b[39;49m\u001b[38;5;124;43m.json\u001b[39;49m\u001b[38;5;124;43m\"\u001b[39;49m\u001b[43m,\u001b[49m\u001b[43m \u001b[49m\u001b[43mmode\u001b[49m\u001b[38;5;241;43m=\u001b[39;49m\u001b[38;5;124;43m\"\u001b[39;49m\u001b[38;5;124;43mw\u001b[39;49m\u001b[38;5;124;43m\"\u001b[39;49m\u001b[43m,\u001b[49m\u001b[43mencoding\u001b[49m\u001b[38;5;241;43m=\u001b[39;49m\u001b[38;5;124;43m\"\u001b[39;49m\u001b[38;5;124;43mutf-8\u001b[39;49m\u001b[38;5;124;43m\"\u001b[39;49m\u001b[43m)\u001b[49m\u001b[38;5;241;43m.\u001b[39;49m\u001b[43mwrite\u001b[49m\u001b[43m(\u001b[49m\u001b[43mresponse\u001b[49m\u001b[38;5;241;43m.\u001b[39;49m\u001b[43mcontent\u001b[49m\u001b[43m)\u001b[49m        \n\u001b[0;32m     15\u001b[0m \u001b[38;5;28mprint\u001b[39m(\u001b[38;5;124m'\u001b[39m\u001b[38;5;124m SUCESSO = download json file to: \u001b[39m\u001b[38;5;124m'\u001b[39m \u001b[38;5;241m+\u001b[39m urlopen \u001b[38;5;241m+\u001b[39m \u001b[38;5;124m'\u001b[39m\u001b[38;5;124m.json\u001b[39m\u001b[38;5;124m'\u001b[39m)\n\u001b[0;32m     16\u001b[0m \u001b[38;5;66;03m#except:\u001b[39;00m\n",
      "\u001b[1;31mTypeError\u001b[0m: write() argument must be str, not bytes"
     ]
    }
   ],
   "source": [
    "urls_api = ['estrutura-organizacional/completa'\n",
    "            ,'estrutura-organizacional/resumida',\n",
    "            'orgao-entidade/completa','orgao-entidade/resumida',\n",
    "            'estrutura-organizacional/alteracoes?versaoReferencia=253489']\n",
    "\n",
    "fx = Main()\n",
    "\n",
    "fx.show_current_time()\n",
    "\n",
    "for api in urls_api:\n",
    "    urlopen =  url_base_siorg + api \n",
    "    try:        \n",
    "        response = requests.get(urlopen)\n",
    "        open(api.split(\"?\")[0].replace(\"/\",\"-\")+\".json\", \"wb\").write(response.content)        \n",
    "        print(' SUCESSO = download json file to: ' + urlopen + '.json')\n",
    "    except:\n",
    "        print(' ERRO = downloading json file to: ' + urlopen + '.json')\n",
    "print(\"Concluído o download dos arquivos json :\")\n",
    "fx.show_current_time()\n",
    "\n"
   ]
  },
  {
   "cell_type": "code",
   "execution_count": null,
   "metadata": {},
   "outputs": [],
   "source": []
  },
  {
   "cell_type": "code",
   "execution_count": null,
   "metadata": {},
   "outputs": [],
   "source": []
  }
 ],
 "metadata": {
  "celltoolbar": "Slideshow",
  "colab": {
   "collapsed_sections": [],
   "name": "FonteDeDados.ipynb",
   "provenance": []
  },
  "kernelspec": {
   "display_name": "Python 3 (ipykernel)",
   "language": "python",
   "name": "python3"
  },
  "language_info": {
   "codemirror_mode": {
    "name": "ipython",
    "version": 3
   },
   "file_extension": ".py",
   "mimetype": "text/x-python",
   "name": "python",
   "nbconvert_exporter": "python",
   "pygments_lexer": "ipython3",
   "version": "3.9.12"
  }
 },
 "nbformat": 4,
 "nbformat_minor": 4
}
