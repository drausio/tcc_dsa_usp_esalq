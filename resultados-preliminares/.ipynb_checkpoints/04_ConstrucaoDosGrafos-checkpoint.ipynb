{
 "cells": [
  {
   "cell_type": "markdown",
   "metadata": {},
   "source": [
    "# Trabalho de Conclusão de Curso - TCC\n",
    "### Turma - DSA T212\n",
    "### Aluno : Drausio Gomes dos Santos\n",
    "### Orientadora: Gabrielle Maria Romeiro Lombardi\n",
    "### Tema: Construção e uso de modelos de grafos para representação e análise da estrutura organizacional da administração pública federal.\n",
    "## Resultados Preliminares"
   ]
  },
  {
   "cell_type": "markdown",
   "metadata": {},
   "source": [
    "### Etapa 4: Construção dos Grafos\n",
    "<p> Construção das representações de estruturas organizacionais em grafos.</p>"
   ]
  },
  {
   "cell_type": "markdown",
   "metadata": {},
   "source": [
    "#### Importando as bibliotecas"
   ]
  },
  {
   "cell_type": "code",
   "execution_count": 1,
   "metadata": {
    "scrolled": true
   },
   "outputs": [
    {
     "name": "stdout",
     "output_type": "stream",
     "text": [
      "Defaulting to user installation because normal site-packages is not writeable\n",
      "Requirement already satisfied: igraph in c:\\programdata\\anaconda3\\lib\\site-packages (0.10.1)\n",
      "Requirement already satisfied: texttable>=1.6.2 in c:\\programdata\\anaconda3\\lib\\site-packages (from igraph) (1.6.4)\n",
      "Defaulting to user installation because normal site-packages is not writeable\n",
      "Requirement already satisfied: pycairo in c:\\programdata\\anaconda3\\lib\\site-packages (1.21.0)\n",
      "Defaulting to user installation because normal site-packages is not writeable\n",
      "Requirement already satisfied: cairocffi in c:\\programdata\\anaconda3\\lib\\site-packages (1.3.0)\n",
      "Requirement already satisfied: cffi>=1.1.0 in c:\\programdata\\anaconda3\\lib\\site-packages (from cairocffi) (1.15.0)\n",
      "Requirement already satisfied: pycparser in c:\\programdata\\anaconda3\\lib\\site-packages (from cffi>=1.1.0->cairocffi) (2.21)\n",
      "Defaulting to user installation because normal site-packages is not writeable\n",
      "Requirement already satisfied: python-igraph in c:\\programdata\\anaconda3\\lib\\site-packages (0.10.1)\n",
      "Requirement already satisfied: igraph==0.10.1 in c:\\programdata\\anaconda3\\lib\\site-packages (from python-igraph) (0.10.1)\n",
      "Requirement already satisfied: texttable>=1.6.2 in c:\\programdata\\anaconda3\\lib\\site-packages (from igraph==0.10.1->python-igraph) (1.6.4)\n"
     ]
    }
   ],
   "source": [
    "!pip install igraph\n",
    "!pip install pycairo\n",
    "!pip install cairocffi\n",
    "!pip install python-igraph"
   ]
  },
  {
   "cell_type": "code",
   "execution_count": 2,
   "metadata": {
    "scrolled": true
   },
   "outputs": [
    {
     "name": "stdout",
     "output_type": "stream",
     "text": [
      "igraph :  0.10.1\n"
     ]
    }
   ],
   "source": [
    "import time\n",
    "import datetime as dt\n",
    "from datetime import datetime\n",
    "import pickle\n",
    "import igraph as ig\n",
    "from igraph import *\n",
    "print(\"igraph : \",ig.__version__)\n",
    "import pandas as pd\n",
    "import pytz\n",
    "\n",
    "class Main:     \n",
    "    def show_current_time(self):\n",
    "        ini = time.time()\n",
    "        tz_SP = pytz.timezone('America/Sao_Paulo') \n",
    "        now = datetime.now(tz_SP)\n",
    "        current_time = now.strftime(\"%d/%m/%Y %H:%M:%S\")\n",
    "        print(\"Current Time =\", current_time)  \n",
    "\n",
    "main = Main()\n",
    "    \n"
   ]
  },
  {
   "cell_type": "markdown",
   "metadata": {},
   "source": [
    "#### Criando data frames para cada ano"
   ]
  },
  {
   "cell_type": "code",
   "execution_count": 3,
   "metadata": {},
   "outputs": [],
   "source": [
    "anos = [2019,2020,2021,2022]\n",
    "base_path = \"C:/projetos/tcc_dsa_usp_esalq/\"\n",
    "filtro0 = 'Ministério da Educação'\n",
    "filtro1 = 'Universidade'\n",
    "listaAno=[]\n",
    "dfs = []\n",
    "for ano in anos:\n",
    "    anoRef = str(ano)\n",
    "    data_frame_orig = pd.read_csv(base_path + \"dados/dou/\" + anoRef + \"/\" + anoRef +\".csv\")\n",
    "    data_frame = data_frame_orig[data_frame_orig[\"emissor\"].str.contains(filtro0)]\n",
    "    data_frame = data_frame[data_frame[\"emissor\"].str.contains(filtro1)]\n",
    "    data_frame[\"entidades\"] = data_frame[\"emissor\"].str.split(\"/\")\n",
    "    listaAno.append({\"ano\":ano, \"df\": data_frame  })    \n",
    "    dfs.append(data_frame_orig)\n",
    "\n",
    "big_frame = pd.concat(dfs, ignore_index=True)"
   ]
  },
  {
   "cell_type": "markdown",
   "metadata": {},
   "source": [
    "#### Montando os grafos direcionados por Ano utlizando IGraph"
   ]
  },
  {
   "cell_type": "code",
   "execution_count": 6,
   "metadata": {
    "scrolled": true
   },
   "outputs": [
    {
     "name": "stdout",
     "output_type": "stream",
     "text": [
      "Início da criação dos grafos anuais.\n",
      "Current Time = 21/01/2023 09:30:04\n",
      "------------------------------------\n",
      "qtd registros analisados:  60986\n"
     ]
    },
    {
     "ename": "TypeError",
     "evalue": "can only concatenate str (not \"int\") to str",
     "output_type": "error",
     "traceback": [
      "\u001b[1;31m---------------------------------------------------------------------------\u001b[0m",
      "\u001b[1;31mTypeError\u001b[0m                                 Traceback (most recent call last)",
      "Input \u001b[1;32mIn [6]\u001b[0m, in \u001b[0;36m<cell line: 4>\u001b[1;34m()\u001b[0m\n\u001b[0;32m     29\u001b[0m             \u001b[38;5;28;01mif\u001b[39;00m \u001b[38;5;129;01mnot\u001b[39;00m (\u001b[38;5;28mlen\u001b[39m(eg) \u001b[38;5;241m>\u001b[39m \u001b[38;5;241m0\u001b[39m):\n\u001b[0;32m     30\u001b[0m                 g\u001b[38;5;241m.\u001b[39madd_edges([(ent , row[\u001b[38;5;124m'\u001b[39m\u001b[38;5;124mentidades\u001b[39m\u001b[38;5;124m'\u001b[39m][index\u001b[38;5;241m+\u001b[39m\u001b[38;5;241m1\u001b[39m])])                       \n\u001b[1;32m---> 31\u001b[0m \u001b[38;5;28mprint\u001b[39m(\u001b[38;5;124;43m\"\u001b[39;49m\u001b[38;5;124;43mvertices: \u001b[39;49m\u001b[38;5;124;43m\"\u001b[39;49m\u001b[43m \u001b[49m\u001b[38;5;241;43m+\u001b[39;49m\u001b[43mg\u001b[49m\u001b[38;5;241;43m.\u001b[39;49m\u001b[43mvcount\u001b[49m\u001b[43m(\u001b[49m\u001b[43m)\u001b[49m \u001b[38;5;241m+\u001b[39m \u001b[38;5;124m\"\u001b[39m\u001b[38;5;124m arestas: \u001b[39m\u001b[38;5;124m\"\u001b[39m \u001b[38;5;241m+\u001b[39m g\u001b[38;5;241m.\u001b[39mecount(), end\u001b[38;5;241m=\u001b[39m\u001b[38;5;124m'\u001b[39m\u001b[38;5;130;01m\\r\u001b[39;00m\u001b[38;5;124m'\u001b[39m )\n\u001b[0;32m     32\u001b[0m \u001b[38;5;28mprint\u001b[39m(g\u001b[38;5;241m.\u001b[39msummary())\n\u001b[0;32m     33\u001b[0m main\u001b[38;5;241m.\u001b[39mshow_current_time()\n",
      "\u001b[1;31mTypeError\u001b[0m: can only concatenate str (not \"int\") to str"
     ]
    }
   ],
   "source": [
    "print(\"Início da criação dos grafos anuais.\")    \n",
    "main.show_current_time()\n",
    "print(\"------------------------------------\") \n",
    "for ano in anos:\n",
    "    g = ig.Graph(directed=True)\n",
    "    g[\"name\"]=\"Unidades Organizacionais da Administração Pública - \" + str(ano)\n",
    "    df_sample = listaAno[ano - 2019][\"df\"]\n",
    "    print(\"qtd registros analisados: \", len(df_sample))\n",
    "    for index, row in df_sample.iterrows(): \n",
    "        split_data = row[\"data\"].split(\"/\")\n",
    "        dia = split_data[0]\n",
    "        mes = split_data[1]\n",
    "        ano = split_data[2]\n",
    "        d = dt.date(int(ano),int(mes),int(dia))\n",
    "        for index,ent in enumerate(row[\"entidades\"]):        \n",
    "            try:\n",
    "                vert = g.vs.find(ent)                 \n",
    "            except:\n",
    "                if  index < 2 :\n",
    "                    attributes = {}\n",
    "                    attributes['weight'] = 0\n",
    "                    vert = g.add_vertex(ent, **attributes)\n",
    "                    vert[\"label\"]=ent                  \n",
    "    \n",
    "        for (index,ent) in enumerate(row['entidades']):\n",
    "            if len(row['entidades']) > index+1 and index < 1 :\n",
    "                eg = g.es.select(lambda edge: edge.source_vertex[\"name\"]  == ent and \\\n",
    "                            edge.target_vertex[\"name\"] == row['entidades'][index+1] ) \n",
    "                if not (len(eg) > 0):\n",
    "                    g.add_edges([(ent , row['entidades'][index+1])])                       \n",
    "    print(\"vertices: \" +g.vcount().str + \" arestas: \" + g.ecount().str, end='\\r' )\n",
    "    print(g.summary())\n",
    "    main.show_current_time()\n",
    "    for vx in g.vs:\n",
    "        print(vx.attributes())        \n",
    "    for es in g.es:\n",
    "        print(len(g.es), es.source_vertex[\"name\"],\"---->\", es.target_vertex[\"name\"],es.attributes())        \n",
    "    with open(\"grafo\"+str(ano)+\".pkl\", 'wb') as pickle_file:\n",
    "        pickle.dump(g, pickle_file)\n",
    "    print(\"------------------------------------\")                 \n",
    "print(\"Término da criação dos grafos anuais.\")    \n",
    "main.show_current_time()"
   ]
  },
  {
   "cell_type": "markdown",
   "metadata": {},
   "source": [
    "#### Visualizando os grafos"
   ]
  },
  {
   "cell_type": "code",
   "execution_count": null,
   "metadata": {
    "scrolled": true
   },
   "outputs": [],
   "source": [
    "out_fig_name2019 = \"grafo2019.eps\"\n",
    "grafo2019 = pickle.load(open(\"grafo2019.pkl\", \"rb\"))\n",
    "visual_style = {}\n",
    "visual_style[\"bbox\"] = (1350,2000)\n",
    "visual_style[\"margin\"] = 140\n",
    "visual_style[\"vertex_color\"] = 'green'\n",
    "visual_style[\"vertex_frame_color\"] = 'green'\n",
    "visual_style[\"vertex_label_dist\"] = 1.5\n",
    "visual_style[\"edge_color\"] = 'yellow'\n",
    "visual_style[\"vertex_size\"] = 20\n",
    "visual_style[\"vertex_label_size\"] = 12\n",
    "visual_style[\"vertex_label_color\"] = ['navy','maroon','black','blue','red',\\\n",
    "                                      'brown','fuchsia','teal','purple']\n",
    "visual_style[\"edge_curved\"] = True\n",
    "#visual_style[\"layout\"] = grafo2019.layout_reingold_tilford_circular()\n",
    "print(grafo2019.summary())\n",
    "plot(grafo2019, out_fig_name2019, **visual_style)"
   ]
  },
  {
   "cell_type": "code",
   "execution_count": null,
   "metadata": {
    "scrolled": true
   },
   "outputs": [],
   "source": [
    "out_fig_name2020 = \"grafo2020.eps\"\n",
    "grafo2020 = pickle.load(open(\"grafo2020.pkl\", \"rb\"))\n",
    "visual_style = {}\n",
    "visual_style[\"bbox\"] = (1350,2000)\n",
    "visual_style[\"margin\"] = 140\n",
    "visual_style[\"vertex_color\"] = 'green'\n",
    "visual_style[\"vertex_frame_color\"] = 'green'\n",
    "#visual_style[\"vertex_label_dist\"] = 1.5\n",
    "#visual_style[\"vertex_label_angle\"] = 0\n",
    "visual_style[\"edge_color\"] = 'yellow'\n",
    "visual_style[\"vertex_size\"] = 20\n",
    "visual_style[\"vertex_label_size\"] = 12\n",
    "visual_style[\"vertex_label_color\"] = ['navy','maroon','black','blue','red',\\\n",
    "                                      'brown','fuchsia','teal','purple']\n",
    "visual_style[\"edge_curved\"] = True\n",
    "#visual_style[\"layout\"] = grafo2020.layout_reingold_tilford_circular()\n",
    "print(grafo2020.summary())\n",
    "plot(grafo2020, out_fig_name2020, **visual_style)"
   ]
  },
  {
   "cell_type": "code",
   "execution_count": null,
   "metadata": {
    "scrolled": false
   },
   "outputs": [],
   "source": [
    "out_fig_name2021 = \"grafo2021.eps\"\n",
    "grafo2021 = pickle.load(open(\"grafo2021.pkl\", \"rb\"))\n",
    "print(grafo2021.summary())\n",
    "visual_style = {}\n",
    "visual_style[\"bbox\"] = (1350,2000)\n",
    "visual_style[\"margin\"] = 140\n",
    "visual_style[\"vertex_color\"] = 'green'\n",
    "visual_style[\"vertex_frame_color\"] = 'green'\n",
    "#visual_style[\"vertex_label_dist\"] = 1.5\n",
    "#visual_style[\"vertex_label_angle\"] = 0\n",
    "visual_style[\"edge_color\"] = 'yellow'\n",
    "visual_style[\"vertex_size\"] = 20\n",
    "visual_style[\"vertex_label_size\"] = 12\n",
    "visual_style[\"vertex_label_color\"] = ['navy','maroon','black','blue','red',\\\n",
    "                                      'brown','fuchsia','teal','purple']\n",
    "visual_style[\"edge_curved\"] = True\n",
    "#visual_style[\"layout\"] = grafo2021.layout_reingold_tilford_circular()\n",
    "plot(grafo2021, out_fig_name2021, **visual_style)"
   ]
  },
  {
   "cell_type": "code",
   "execution_count": null,
   "metadata": {},
   "outputs": [],
   "source": [
    "out_fig_name2022 = \"grafo2022.eps\"\n",
    "grafo2022 = pickle.load(open(\"grafo2022.pkl\", \"rb\"))\n",
    "print(grafo2022.summary())\n",
    "visual_style = {}\n",
    "visual_style[\"bbox\"] = (1350,2000)\n",
    "visual_style[\"margin\"] = 140\n",
    "visual_style[\"vertex_color\"] = 'green'\n",
    "visual_style[\"vertex_frame_color\"] = 'green'\n",
    "#visual_style[\"vertex_label_dist\"] = 1.5\n",
    "#visual_style[\"vertex_label_angle\"] = 0\n",
    "visual_style[\"edge_color\"] = 'yellow'\n",
    "visual_style[\"vertex_size\"] = 20\n",
    "visual_style[\"vertex_label_size\"] = 12\n",
    "visual_style[\"vertex_label_color\"] = ['navy','maroon','black','blue','red',\\\n",
    "                                      'brown','fuchsia','teal','purple']\n",
    "visual_style[\"edge_curved\"] = True\n",
    "#visual_style[\"layout\"] = grafo2022.layout_reingold_tilford_circular()\n",
    "plot(grafo2022, out_fig_name2022, **visual_style)"
   ]
  },
  {
   "cell_type": "code",
   "execution_count": null,
   "metadata": {
    "scrolled": true
   },
   "outputs": [],
   "source": [
    "print(grafo2019.summary())\n",
    "print(grafo2020.summary())\n",
    "print(grafo2021.summary())\n",
    "print(grafo2022.summary())\n"
   ]
  },
  {
   "cell_type": "code",
   "execution_count": null,
   "metadata": {
    "scrolled": true
   },
   "outputs": [],
   "source": [
    "diff_in_2020 = grafo2020.difference(grafo2019)\n",
    "sub_diff_in_2020 = diff_in_2020.subgraph_edges(diff_in_2020.es)\n",
    "print(sub_diff_in_2020.summary())\n",
    "visual_style = {}\n",
    "visual_style[\"bbox\"] = (600,400)\n",
    "visual_style[\"margin\"] = 120\n",
    "visual_style[\"vertex_color\"] = 'green'\n",
    "visual_style[\"vertex_label_dist\"] = 1.5\n",
    "visual_style[\"vertex_label_angle\"] = 1.5\n",
    "visual_style[\"edge_color\"] = 'yellow'\n",
    "visual_style[\"vertex_size\"] = 10\n",
    "visual_style[\"vertex_label_size\"] = 7\n",
    "visual_style[\"edge_curved\"] = True\n",
    "visual_style[\"layout\"] = sub_diff_in_2020.layout_reingold_tilford_circular()\n",
    "plot(sub_diff_in_2020, \"sub_diff_in_2020.eps\", **visual_style)"
   ]
  },
  {
   "cell_type": "code",
   "execution_count": null,
   "metadata": {},
   "outputs": [],
   "source": [
    "for vx in sub_diff_in_2020.vs:\n",
    "        print(len(sub_diff_in_2020.vs),vx.attributes())\n",
    "        print(\"------------------------------------\") \n",
    "for es in sub_diff_in_2020.es:\n",
    "        print(len(sub_diff_in_2020.es), es.source_vertex[\"name\"],\"---->\", es.target_vertex[\"name\"],es.attributes())\n",
    "        print(\"------------------------------------\") "
   ]
  },
  {
   "cell_type": "code",
   "execution_count": null,
   "metadata": {
    "scrolled": true
   },
   "outputs": [],
   "source": [
    "diff_in_2021 = grafo2021.difference(grafo2020)\n",
    "sub_diff_in_2021 = diff_in_2021.subgraph_edges(diff_in_2021.es)\n",
    "print(sub_diff_in_2021.summary())\n",
    "visual_style[\"margin\"] = 100\n",
    "visual_style[\"layout\"] = sub_diff_in_2021.layout_reingold_tilford_circular()\n",
    "plot(sub_diff_in_2021, \"sub_diff_in_2021.eps\", **visual_style)"
   ]
  },
  {
   "cell_type": "code",
   "execution_count": null,
   "metadata": {},
   "outputs": [],
   "source": [
    "for vx in sub_diff_in_2021.vs:\n",
    "        print(len(sub_diff_in_2021.vs),vx.attributes())\n",
    "        print(\"------------------------------------\") \n",
    "for es in sub_diff_in_2021.es:\n",
    "        print(len(sub_diff_in_2021.es), es.source_vertex[\"name\"],\"---->\", es.target_vertex[\"name\"],es.attributes())\n",
    "        print(\"------------------------------------\") "
   ]
  },
  {
   "cell_type": "code",
   "execution_count": null,
   "metadata": {
    "scrolled": true
   },
   "outputs": [],
   "source": [
    "diff_in_2022 = grafo2022.difference(grafo2021)\n",
    "sub_diff_in_2022 = diff_in_2022.subgraph_edges(diff_in_2022.es)\n",
    "print(sub_diff_in_2022.summary())\n",
    "visual_style[\"margin\"] = 100\n",
    "visual_style[\"layout\"] = sub_diff_in_2022.layout_reingold_tilford_circular()\n",
    "plot(sub_diff_in_2022, \"sub_diff_in_2022.eps\", **visual_style)"
   ]
  },
  {
   "cell_type": "code",
   "execution_count": null,
   "metadata": {},
   "outputs": [],
   "source": [
    "for vx in sub_diff_in_2022.vs:\n",
    "        print(len(sub_diff_in_2022.vs),vx.attributes())\n",
    "        print(\"------------------------------------\") \n",
    "for es in sub_diff_in_2022.es:\n",
    "        print(len(sub_diff_in_2022.es), es.source_vertex[\"name\"],\"---->\", es.target_vertex[\"name\"],es.attributes())\n",
    "        print(\"------------------------------------\") "
   ]
  },
  {
   "cell_type": "code",
   "execution_count": null,
   "metadata": {},
   "outputs": [],
   "source": [
    "diff_in_2022_2019 = grafo2022.difference(grafo2019)\n",
    "sub_diff_in_2022_2019 = diff_in_2022_2019.subgraph_edges(diff_in_2022_2019.es)\n",
    "sub_diff_in_2022_2019_vs = diff_in_2022_2019.subgraph(diff_in_2022_2019.vs)\n",
    "print(diff_in_2022_2019.summary())\n",
    "print(sub_diff_in_2022_2019.summary())\n",
    "print(sub_diff_in_2022_2019_vs.summary())\n",
    "visual_style[\"margin\"] = 100\n",
    "visual_style[\"layout\"] = sub_diff_in_2022_2019.layout_reingold_tilford_circular()\n",
    "plot(sub_diff_in_2022_2019, \"sub_diff_in_2022_2019.eps\", **visual_style)"
   ]
  },
  {
   "cell_type": "code",
   "execution_count": null,
   "metadata": {},
   "outputs": [],
   "source": [
    "for vx in sub_diff_in_2022_2019.vs:\n",
    "        print(len(sub_diff_in_2022_2019.vs),vx.attributes())\n",
    "        print(\"------------------------------------\") \n",
    "for es in sub_diff_in_2022_2019.es:\n",
    "        print(len(sub_diff_in_2022_2019.es), es.source_vertex[\"name\"],\"---->\", es.target_vertex[\"name\"],es.attributes())\n",
    "        print(\"------------------------------------\") "
   ]
  },
  {
   "cell_type": "code",
   "execution_count": null,
   "metadata": {},
   "outputs": [],
   "source": [
    "big_frame"
   ]
  },
  {
   "cell_type": "code",
   "execution_count": null,
   "metadata": {},
   "outputs": [],
   "source": [
    "diff_out_2019_2022 = grafo2019.difference(grafo2022)\n",
    "sub_diff_out_2019_2022 = diff_out_2019_2022.subgraph_edges(diff_in_2022.es)\n",
    "print(sub_diff_out_2019_2022.summary())\n",
    "visual_style[\"margin\"] = 100\n",
    "visual_style[\"layout\"] = sub_diff_out_2019_2022.layout_reingold_tilford_circular()\n",
    "plot(sub_diff_out_2019_2022, \"sub_diff_out_2019_2022.eps\", **visual_style)"
   ]
  },
  {
   "cell_type": "code",
   "execution_count": null,
   "metadata": {
    "scrolled": true
   },
   "outputs": [],
   "source": [
    "df_filtro = big_frame[big_frame[\"emissor\"].str.contains('Ministério da Educação')]\n",
    "df_filtro = df_filtro[df_filtro[\"emissor\"].str.contains('Universidade')]\n",
    "df_filtro = df_filtro[df_filtro[\"emissor\"].str.contains('Agreste de Pernambuco')]\n",
    "df_filtro\n"
   ]
  },
  {
   "cell_type": "code",
   "execution_count": null,
   "metadata": {},
   "outputs": [],
   "source": [
    "df_filtro = big_frame[big_frame[\"emissor\"].str.contains('Ministério da Educação')]\n",
    "df_filtro = df_filtro[df_filtro[\"emissor\"].str.contains('Universidade')]\n",
    "df_filtro = df_filtro[df_filtro[\"emissor\"].str.contains('Federal de Jataí')]\n",
    "df_filtro"
   ]
  },
  {
   "cell_type": "code",
   "execution_count": null,
   "metadata": {},
   "outputs": [],
   "source": [
    "df_filtro = big_frame[big_frame[\"emissor\"].str.contains('Ministério da Educação')]\n",
    "df_filtro = df_filtro[df_filtro[\"emissor\"].str.contains('Universidade')]\n",
    "df_filtro = df_filtro[df_filtro[\"emissor\"].str.contains('Ciências da Saúde de Porto Alegre')]\n",
    "df_filtro"
   ]
  },
  {
   "cell_type": "code",
   "execution_count": null,
   "metadata": {},
   "outputs": [],
   "source": [
    "df_filtro = big_frame[big_frame[\"emissor\"].str.contains('Ministério da Educação')]\n",
    "df_filtro = df_filtro[df_filtro[\"emissor\"].str.contains('Universidade')]\n",
    "df_filtro = df_filtro[df_filtro[\"emissor\"].str.contains('Recôncavo da Bahia')]\n",
    "df_filtro"
   ]
  },
  {
   "cell_type": "code",
   "execution_count": null,
   "metadata": {},
   "outputs": [],
   "source": [
    "df_filtro = big_frame[big_frame[\"emissor\"].str.contains('Ministério da Educação')]\n",
    "df_filtro = df_filtro[df_filtro[\"emissor\"].str.contains('Universidade')]\n",
    "df_filtro = df_filtro[df_filtro[\"emissor\"].str.contains('Rondonópolis')]\n",
    "df_filtro"
   ]
  },
  {
   "cell_type": "code",
   "execution_count": null,
   "metadata": {},
   "outputs": [],
   "source": [
    "df_filtro = big_frame[big_frame[\"emissor\"].str.contains('Ministério da Educação')]\n",
    "df_filtro = df_filtro[df_filtro[\"emissor\"].str.contains('Universidade')]\n",
    "df_filtro = df_filtro[df_filtro[\"emissor\"].str.contains('Sul e Sudeste do Pará')]\n",
    "df_filtro"
   ]
  },
  {
   "cell_type": "code",
   "execution_count": null,
   "metadata": {},
   "outputs": [],
   "source": [
    "df_filtro = big_frame[big_frame[\"emissor\"].str.contains('Ministério da Educação')]\n",
    "df_filtro = df_filtro[df_filtro[\"emissor\"].str.contains('Universidade')]\n",
    "df_filtro = df_filtro[df_filtro[\"emissor\"].str.contains('Empresa Brasileira de Serviços Hospitalares')]\n",
    "df_filtro"
   ]
  },
  {
   "cell_type": "code",
   "execution_count": null,
   "metadata": {},
   "outputs": [],
   "source": [
    "df_filtro = big_frame[big_frame[\"emissor\"].str.contains('Ministério da Educação')]\n",
    "df_filtro = df_filtro[df_filtro[\"emissor\"].str.contains('Universidade')]\n",
    "df_filtro = df_filtro[df_filtro[\"emissor\"].str.contains('Delta do Parnaíba')]\n",
    "df_filtro"
   ]
  },
  {
   "cell_type": "code",
   "execution_count": null,
   "metadata": {},
   "outputs": [],
   "source": [
    "df_filtro = big_frame[big_frame[\"emissor\"].str.contains('Ministério da Educação')]\n",
    "df_filtro = df_filtro[df_filtro[\"emissor\"].str.contains('Universidade')]\n",
    "df_filtro = df_filtro[df_filtro[\"emissor\"].str.contains('Fundação Universidade Federal do Piauí')]\n",
    "df_filtro"
   ]
  },
  {
   "cell_type": "code",
   "execution_count": null,
   "metadata": {},
   "outputs": [],
   "source": [
    "df_filtro = big_frame[big_frame[\"emissor\"].str.contains('Ministério da Educação')]\n",
    "df_filtro = df_filtro[df_filtro[\"emissor\"].str.contains('Universidade')]\n",
    "df_filtro = df_filtro[df_filtro[\"emissor\"].str.contains('Oeste do Pará')]\n",
    "df_filtro"
   ]
  },
  {
   "cell_type": "code",
   "execution_count": null,
   "metadata": {},
   "outputs": [],
   "source": []
  }
 ],
 "metadata": {
  "celltoolbar": "Slideshow",
  "colab": {
   "collapsed_sections": [],
   "name": "FonteDeDados.ipynb",
   "provenance": []
  },
  "kernelspec": {
   "display_name": "Python 3 (ipykernel)",
   "language": "python",
   "name": "python3"
  },
  "language_info": {
   "codemirror_mode": {
    "name": "ipython",
    "version": 3
   },
   "file_extension": ".py",
   "mimetype": "text/x-python",
   "name": "python",
   "nbconvert_exporter": "python",
   "pygments_lexer": "ipython3",
   "version": "3.9.12"
  }
 },
 "nbformat": 4,
 "nbformat_minor": 4
}
