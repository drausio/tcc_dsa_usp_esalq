{
 "cells": [
  {
   "cell_type": "markdown",
   "metadata": {
    "slideshow": {
     "slide_type": "slide"
    }
   },
   "source": [
    "# Trabalho de Conclusão de Curso - TCC\n",
    "### Turma - DSA T212\n",
    "### Aluno : Drausio Gomes dos Santos\n",
    "### Orientadora: Gabrielle Maria Romeiro Lombardi\n",
    "### Tema: Construção e uso de modelos de grafos para representação e análise da estrutura organizacional da administração pública federal.\n",
    "## Resultados Preliminares"
   ]
  },
  {
   "cell_type": "markdown",
   "metadata": {
    "colab_type": "text",
    "id": "lvn2tZMuCCqh",
    "slideshow": {
     "slide_type": "slide"
    },
    "tags": []
   },
   "source": [
    "## Etapa 2: Pré processamento dos dados\n",
    "<p> Procedimentos para recuperação e tratamento das fontes de dados originais, de forma a serem utilizadas em linguagem de programação que possibilite a construção de modelo de grafos</p>"
   ]
  },
  {
   "cell_type": "markdown",
   "metadata": {
    "slideshow": {
     "slide_type": "subslide"
    }
   },
   "source": [
    "##### Parâmetros iniciais do caderno notebook"
   ]
  },
  {
   "cell_type": "code",
   "execution_count": 1,
   "metadata": {
    "slideshow": {
     "slide_type": "subslide"
    }
   },
   "outputs": [],
   "source": [
    "base_path = 'C:/projetos/tcc_dsa_usp_esalq/dados/'\n",
    "#base_path = '/content/drive/My Drive/Colab Notebooks/'\n",
    "url_base_dou = \"http://dados.gov.br/dataset/diario-oficial-da-uniao-materias-publicadas-em-\""
   ]
  },
  {
   "cell_type": "markdown",
   "metadata": {
    "colab_type": "text",
    "id": "aWPEHDOcIeVB",
    "slideshow": {
     "slide_type": "slide"
    }
   },
   "source": [
    "#### Importando as bibliotecas\n"
   ]
  },
  {
   "cell_type": "code",
   "execution_count": 2,
   "metadata": {},
   "outputs": [
    {
     "name": "stdout",
     "output_type": "stream",
     "text": [
      "Defaulting to user installation because normal site-packages is not writeable\n",
      "Requirement already satisfied: wget in c:\\programdata\\anaconda3\\lib\\site-packages (3.2)\n"
     ]
    }
   ],
   "source": [
    "!pip install wget"
   ]
  },
  {
   "cell_type": "code",
   "execution_count": 3,
   "metadata": {
    "colab": {
     "base_uri": "https://localhost:8080/",
     "height": 52
    },
    "colab_type": "code",
    "id": "NwULeKAQxzqx",
    "outputId": "a60455b6-b1d8-4867-a3a6-d64f4a070066",
    "slideshow": {
     "slide_type": "slide"
    }
   },
   "outputs": [
    {
     "name": "stdout",
     "output_type": "stream",
     "text": [
      "Versão pandas: 1.4.2\n",
      "Versão sklearn: 1.0.2\n",
      "Versão urllib.request: 3.9\n"
     ]
    }
   ],
   "source": [
    "import os\n",
    "import pandas as pd\n",
    "print(\"Versão pandas: \" + pd.__version__) \n",
    "import sklearn as sk\n",
    "print(\"Versão sklearn: \" + sk.__version__) \n",
    "import numpy as np\n",
    "import io\n",
    "from sklearn.model_selection import train_test_split\n",
    "import urllib.request as req\n",
    "print(\"Versão urllib.request: \" +req.__version__)\n",
    "from bs4 import BeautifulSoup\n",
    "from io import StringIO\n",
    "import requests, zipfile\n",
    "from xml.etree import ElementTree\n",
    "import os\n",
    "import csv\n",
    "from os import listdir\n",
    "from os.path import isfile, join\n",
    "import time\n",
    "from datetime import datetime\n",
    "import pytz\n",
    "import re\n",
    "import math\n",
    "import wget   "
   ]
  },
  {
   "cell_type": "markdown",
   "metadata": {
    "slideshow": {
     "slide_type": "slide"
    }
   },
   "source": [
    "#### Funções utilizadas"
   ]
  },
  {
   "cell_type": "code",
   "execution_count": 4,
   "metadata": {
    "slideshow": {
     "slide_type": "slide"
    }
   },
   "outputs": [],
   "source": [
    "class Main:     \n",
    "    def show_current_time(self):\n",
    "        ini = time.time()\n",
    "        tz_SP = pytz.timezone('America/Sao_Paulo') \n",
    "        now = datetime.now(tz_SP)\n",
    "        current_time = now.strftime(\"%d/%m/%Y %H:%M:%S\")\n",
    "        print(\"Current Time =\", current_time)  \n",
    "\n",
    "main = Main()"
   ]
  },
  {
   "cell_type": "markdown",
   "metadata": {
    "colab_type": "text",
    "id": "Pjy5DcZ-yBCk",
    "slideshow": {
     "slide_type": "slide"
    }
   },
   "source": [
    "#### Montando a estrutura de diretórios"
   ]
  },
  {
   "cell_type": "code",
   "execution_count": 8,
   "metadata": {
    "colab": {
     "base_uri": "https://localhost:8080/",
     "height": 69
    },
    "colab_type": "code",
    "id": "tWcq17pbylBE",
    "outputId": "f35815f2-0db1-40e0-eee9-47b455c5218b",
    "slideshow": {
     "slide_type": "slide"
    },
    "tags": []
   },
   "outputs": [
    {
     "name": "stdout",
     "output_type": "stream",
     "text": [
      "Início da criação da árvore de diretórios.\n",
      "Current Time = 20/10/2022 15:42:12\n",
      "diretório raiz C:/projetos/tcc_dsa_usp_esalq/dados/    já existente\n",
      "diretório dou  C:/projetos/tcc_dsa_usp_esalq/dados/dou já existente\n",
      "Término da criação da árvore de diretórios.\n",
      "Current Time = 20/10/2022 15:42:12\n"
     ]
    }
   ],
   "source": [
    "def monta_pastas_secoes(base_path, month):\n",
    "    os.chdir(base_path)\n",
    "    dir_secoes = ['01','02','03']\n",
    "    for secao in dir_secoes:\n",
    "        isdir = os.path.isdir(base_path+'/'+secao)  \n",
    "        if not isdir:\n",
    "            print(\"criando diretorio do mes: \" + month + \" seção: \" + secao)\n",
    "            os.mkdir(base_path +'/'+secao) \n",
    "    \n",
    "def monta_pastas_meses(bash_path, year):\n",
    "    os.chdir(bash_path)\n",
    "    months = ['01','02','03','04','05','06','07','08','09','10','11','12']\n",
    "    for month in months:\n",
    "        isdir = os.path.isdir(bash_path+\"/\"+month)\n",
    "        if not isdir:\n",
    "            print(\"criando diretorio do mes \" + month +\"/\"+str(year))\n",
    "            os.mkdir(bash_path +\"/\"+month)\n",
    "        monta_pastas_secoes(bash_path+\"/\"+month, month)\n",
    "\n",
    "def monta_pastas_anos(base_path):\n",
    "    path=base_path+\"dou\"\n",
    "    os.chdir(path)\n",
    "    years = range(2002,datetime.today().year+1)\n",
    "    for year in years:\n",
    "        isdir = os.path.isdir(path+\"/\"+str(year))  \n",
    "        if not isdir:\n",
    "            print(\"criando diretorio do ano \" + str(year))\n",
    "            os.mkdir(path+\"/\"+str(year))    \n",
    "        monta_pastas_meses(path+\"/\"+str(year),year)\n",
    "    \n",
    "def montando_estrutura_de_pastas():\n",
    "    monta_pastas_anos(base_path)\n",
    "    \n",
    "def criando_diretorio_raiz():\n",
    "    isdir = os.path.isdir(base_path) \n",
    "    if not isdir:\n",
    "        print(\"criando diretório raiz em : \"+ base_path)\n",
    "        os.mkdir(base_path)\n",
    "    else:\n",
    "        print(\"diretório raiz \"+ base_path + \"    já existente\")    \n",
    "    os.chdir(base_path)\n",
    "    dirname = \"dou\"\n",
    "    isdir = os.path.isdir(base_path+dirname) \n",
    "    if not isdir:\n",
    "        print(\"criando diretório dou em : \"+ base_path+dirname)\n",
    "        os.mkdir(dirname)\n",
    "    else:\n",
    "        print(\"diretório dou  \"+ base_path+dirname + \" já existente\")\n",
    "    \n",
    "print(\"Início da criação da árvore de diretórios.\")    \n",
    "main.show_current_time()\n",
    "\n",
    "criando_diretorio_raiz()\n",
    "montando_estrutura_de_pastas()\n",
    "               \n",
    "print(\"Término da criação da árvore de diretórios.\")\n",
    "main.show_current_time()\n"
   ]
  },
  {
   "cell_type": "markdown",
   "metadata": {
    "colab_type": "text",
    "id": "6QGo5f4B1nHC",
    "slideshow": {
     "slide_type": "slide"
    }
   },
   "source": [
    "#### Carregamento dos arquivos .zip com xml da base DOU do portal de dados abertos do governo federal"
   ]
  },
  {
   "cell_type": "code",
   "execution_count": null,
   "metadata": {
    "colab": {
     "base_uri": "https://localhost:8080/",
     "height": 193
    },
    "colab_type": "code",
    "id": "GqUpD8U8pIY4",
    "outputId": "6fdf6d6f-9553-4f51-9490-fd69cfbf6e1b",
    "scrolled": true,
    "slideshow": {
     "slide_type": "-"
    }
   },
   "outputs": [
    {
     "name": "stdout",
     "output_type": "stream",
     "text": [
      "Início do download dos arquivos zip do atos do DOU\n",
      "Current Time = 20/10/2022 19:55:11\n",
      "--------------------------------------------------\n",
      " arquivo já carregado: C:/projetos/tcc_dsa_usp_esalq/dados/dou/2019/01/01/S01012019.zip\n",
      " arquivo já carregado: C:/projetos/tcc_dsa_usp_esalq/dados/dou/2019/01/02/S02012019.zip\n",
      " arquivo já carregado: C:/projetos/tcc_dsa_usp_esalq/dados/dou/2019/01/03/S03012019.zip\n",
      " arquivo já carregado: C:/projetos/tcc_dsa_usp_esalq/dados/dou/2019/02/01/S01022019.zip\n",
      " arquivo já carregado: C:/projetos/tcc_dsa_usp_esalq/dados/dou/2019/02/02/S02022019.zip\n",
      " arquivo já carregado: C:/projetos/tcc_dsa_usp_esalq/dados/dou/2019/02/03/S03022019.zip\n",
      " arquivo já carregado: C:/projetos/tcc_dsa_usp_esalq/dados/dou/2019/03/01/S01032019.zip\n",
      " arquivo já carregado: C:/projetos/tcc_dsa_usp_esalq/dados/dou/2019/03/02/S02032019.zip\n",
      " arquivo já carregado: C:/projetos/tcc_dsa_usp_esalq/dados/dou/2019/03/03/S03032019.zip\n",
      " arquivo já carregado: C:/projetos/tcc_dsa_usp_esalq/dados/dou/2019/04/01/S01042019.zip\n",
      " arquivo já carregado: C:/projetos/tcc_dsa_usp_esalq/dados/dou/2019/04/02/S02042019.zip\n",
      " arquivo já carregado: C:/projetos/tcc_dsa_usp_esalq/dados/dou/2019/04/03/S03042019.zip\n",
      " arquivo já carregado: C:/projetos/tcc_dsa_usp_esalq/dados/dou/2019/05/01/S01052019.zip\n",
      " arquivo já carregado: C:/projetos/tcc_dsa_usp_esalq/dados/dou/2019/05/02/S02052019.zip\n",
      " arquivo já carregado: C:/projetos/tcc_dsa_usp_esalq/dados/dou/2019/05/03/S03052019.zip\n",
      " arquivo já carregado: C:/projetos/tcc_dsa_usp_esalq/dados/dou/2019/06/01/S01062019.zip\n",
      " arquivo já carregado: C:/projetos/tcc_dsa_usp_esalq/dados/dou/2019/06/02/S02062019.zip\n",
      " arquivo já carregado: C:/projetos/tcc_dsa_usp_esalq/dados/dou/2019/06/03/S03062019.zip\n",
      " arquivo já carregado: C:/projetos/tcc_dsa_usp_esalq/dados/dou/2019/07/01/S01072019.zip\n",
      " arquivo já carregado: C:/projetos/tcc_dsa_usp_esalq/dados/dou/2019/07/02/S02072019.zip\n",
      " arquivo já carregado: C:/projetos/tcc_dsa_usp_esalq/dados/dou/2019/07/03/S03072019.zip\n",
      "100% [........................................................................] 45185898 / 45185898 SUCESSO = download zip file to: C:/projetos/tcc_dsa_usp_esalq/dados/dou/2019/08/01/S01082019.zip from url: https://www.in.gov.br/documents/49035712/214905926/S01082019.rar/1329ede4-7c26-40df-727c-0170b626932c?t=1567780838767\n",
      "100% [........................................................................] 16543456 / 16543456 SUCESSO = download zip file to: C:/projetos/tcc_dsa_usp_esalq/dados/dou/2019/08/02/S02082019.zip from url: https://www.in.gov.br/documents/49035712/214905926/S02082019.rar/3bece245-14c8-7f18-213c-19305a76b28d?t=1567780839230\n",
      "100% [........................................................................] 78309859 / 78309859 SUCESSO = download zip file to: C:/projetos/tcc_dsa_usp_esalq/dados/dou/2019/08/03/S03082019.zip from url: https://www.in.gov.br/documents/49035712/214905926/S03082019.rar/f78be50e-66ee-6e12-b872-e3a3c6ca336a?t=1567780840276\n",
      " arquivo já carregado: C:/projetos/tcc_dsa_usp_esalq/dados/dou/2019/09/01/S01092019.zip\n",
      " arquivo já carregado: C:/projetos/tcc_dsa_usp_esalq/dados/dou/2019/09/02/S02092019.zip\n",
      " arquivo já carregado: C:/projetos/tcc_dsa_usp_esalq/dados/dou/2019/09/03/S03092019.zip\n",
      " arquivo já carregado: C:/projetos/tcc_dsa_usp_esalq/dados/dou/2019/10/01/S01102019.zip\n",
      " arquivo já carregado: C:/projetos/tcc_dsa_usp_esalq/dados/dou/2019/10/02/S02102019.zip\n",
      " arquivo já carregado: C:/projetos/tcc_dsa_usp_esalq/dados/dou/2019/10/03/S03102019.zip\n",
      " arquivo já carregado: C:/projetos/tcc_dsa_usp_esalq/dados/dou/2019/11/01/S01112019.zip\n",
      " arquivo já carregado: C:/projetos/tcc_dsa_usp_esalq/dados/dou/2019/11/02/S02112019.zip\n",
      " arquivo já carregado: C:/projetos/tcc_dsa_usp_esalq/dados/dou/2019/11/03/S03112019.zip\n",
      " arquivo já carregado: C:/projetos/tcc_dsa_usp_esalq/dados/dou/2019/12/01/S01122019.zip\n",
      " arquivo já carregado: C:/projetos/tcc_dsa_usp_esalq/dados/dou/2019/12/02/S02122019.zip\n",
      " arquivo já carregado: C:/projetos/tcc_dsa_usp_esalq/dados/dou/2019/12/03/S03122019.zip\n",
      "Concluído o download dos arquivos zip do ano :2019\n",
      " arquivo já carregado: C:/projetos/tcc_dsa_usp_esalq/dados/dou/2020/01/01/S01012020.zip\n",
      " arquivo já carregado: C:/projetos/tcc_dsa_usp_esalq/dados/dou/2020/01/02/S02012020.zip\n",
      " arquivo já carregado: C:/projetos/tcc_dsa_usp_esalq/dados/dou/2020/01/03/S03012020.zip\n",
      " arquivo já carregado: C:/projetos/tcc_dsa_usp_esalq/dados/dou/2020/02/01/S01022020.zip\n",
      " arquivo já carregado: C:/projetos/tcc_dsa_usp_esalq/dados/dou/2020/02/02/S02022020.zip\n",
      " arquivo já carregado: C:/projetos/tcc_dsa_usp_esalq/dados/dou/2020/02/03/S03022020.zip\n",
      " arquivo já carregado: C:/projetos/tcc_dsa_usp_esalq/dados/dou/2020/03/01/S01032020.zip\n",
      " arquivo já carregado: C:/projetos/tcc_dsa_usp_esalq/dados/dou/2020/03/02/S02032020.zip\n",
      " arquivo já carregado: C:/projetos/tcc_dsa_usp_esalq/dados/dou/2020/03/03/S03032020.zip\n",
      " arquivo já carregado: C:/projetos/tcc_dsa_usp_esalq/dados/dou/2020/04/01/S01042020.zip\n",
      " arquivo já carregado: C:/projetos/tcc_dsa_usp_esalq/dados/dou/2020/04/02/S02042020.zip\n",
      " arquivo já carregado: C:/projetos/tcc_dsa_usp_esalq/dados/dou/2020/04/03/S03042020.zip\n",
      " arquivo já carregado: C:/projetos/tcc_dsa_usp_esalq/dados/dou/2020/05/01/S01052020.zip\n",
      " arquivo já carregado: C:/projetos/tcc_dsa_usp_esalq/dados/dou/2020/05/02/S02052020.zip\n",
      " arquivo já carregado: C:/projetos/tcc_dsa_usp_esalq/dados/dou/2020/05/03/S03052020.zip\n",
      " arquivo já carregado: C:/projetos/tcc_dsa_usp_esalq/dados/dou/2020/06/01/S01062020.zip\n",
      " arquivo já carregado: C:/projetos/tcc_dsa_usp_esalq/dados/dou/2020/06/02/S02062020.zip\n",
      " arquivo já carregado: C:/projetos/tcc_dsa_usp_esalq/dados/dou/2020/06/03/S03062020.zip\n",
      " arquivo já carregado: C:/projetos/tcc_dsa_usp_esalq/dados/dou/2020/07/01/S01072020.zip\n",
      " arquivo já carregado: C:/projetos/tcc_dsa_usp_esalq/dados/dou/2020/07/02/S02072020.zip\n",
      " arquivo já carregado: C:/projetos/tcc_dsa_usp_esalq/dados/dou/2020/07/03/S03072020.zip\n",
      " arquivo já carregado: C:/projetos/tcc_dsa_usp_esalq/dados/dou/2020/08/01/S01082020.zip\n",
      " arquivo já carregado: C:/projetos/tcc_dsa_usp_esalq/dados/dou/2020/08/02/S02082020.zip\n",
      " arquivo já carregado: C:/projetos/tcc_dsa_usp_esalq/dados/dou/2020/08/03/S03082020.zip\n",
      " arquivo já carregado: C:/projetos/tcc_dsa_usp_esalq/dados/dou/2020/09/01/S01092020.zip\n",
      " arquivo já carregado: C:/projetos/tcc_dsa_usp_esalq/dados/dou/2020/09/02/S02092020.zip\n",
      " arquivo já carregado: C:/projetos/tcc_dsa_usp_esalq/dados/dou/2020/09/03/S03092020.zip\n",
      " arquivo já carregado: C:/projetos/tcc_dsa_usp_esalq/dados/dou/2020/10/01/S01102020.zip\n",
      " arquivo já carregado: C:/projetos/tcc_dsa_usp_esalq/dados/dou/2020/10/02/S02102020.zip\n",
      "100% [........................................................................] 76963731 / 76963731 SUCESSO = download zip file to: C:/projetos/tcc_dsa_usp_esalq/dados/dou/2020/10/03/S03102020.zip from url: https://www.in.gov.br/documents/49035712/286719135/S03102020.zip/6b2bda2e-bd43-1a7e-ed75-fc6fa5cefdfe?t=1604943610607\n",
      " arquivo já carregado: C:/projetos/tcc_dsa_usp_esalq/dados/dou/2020/11/01/S01112020.zip\n",
      " arquivo já carregado: C:/projetos/tcc_dsa_usp_esalq/dados/dou/2020/11/02/S02112020.zip\n",
      " ERRO = downloading zip file to: C:/projetos/tcc_dsa_usp_esalq/dados/dou/2020/11/03/S03112020.zip from url: https://www.in.gov.br/49035712/292952260/S03112020.zip/195d0f89-88a2-363d-254c-ea7d4f95d1cd?t=1607436119019\n",
      " arquivo já carregado: C:/projetos/tcc_dsa_usp_esalq/dados/dou/2020/12/01/S01122020.zip\n",
      " arquivo já carregado: C:/projetos/tcc_dsa_usp_esalq/dados/dou/2020/12/02/S02122020.zip\n",
      "100% [........................................................................] 82637769 / 82637769 SUCESSO = download zip file to: C:/projetos/tcc_dsa_usp_esalq/dados/dou/2020/12/03/S03122020.zip from url: https://www.in.gov.br/documents/49035712/298262853/S03122020.zip/b61437ef-7c4c-bb01-cd6b-468dce41c673?t=1610392201491\n",
      "Concluído o download dos arquivos zip do ano :2020\n",
      " arquivo já carregado: C:/projetos/tcc_dsa_usp_esalq/dados/dou/2021/01/01/S01012021.zip\n",
      " arquivo já carregado: C:/projetos/tcc_dsa_usp_esalq/dados/dou/2021/01/02/S02012021.zip\n",
      " arquivo já carregado: C:/projetos/tcc_dsa_usp_esalq/dados/dou/2021/01/03/S03012021.zip\n",
      " arquivo já carregado: C:/projetos/tcc_dsa_usp_esalq/dados/dou/2021/02/01/S01022021.zip\n",
      " arquivo já carregado: C:/projetos/tcc_dsa_usp_esalq/dados/dou/2021/02/02/S02022021.zip\n",
      " arquivo já carregado: C:/projetos/tcc_dsa_usp_esalq/dados/dou/2021/02/03/S03022021.zip\n",
      " arquivo já carregado: C:/projetos/tcc_dsa_usp_esalq/dados/dou/2021/03/01/S01032021.zip\n",
      " arquivo já carregado: C:/projetos/tcc_dsa_usp_esalq/dados/dou/2021/03/02/S02032021.zip\n",
      " arquivo já carregado: C:/projetos/tcc_dsa_usp_esalq/dados/dou/2021/03/03/S03032021.zip\n",
      " arquivo já carregado: C:/projetos/tcc_dsa_usp_esalq/dados/dou/2021/04/01/S01042021.zip\n",
      " arquivo já carregado: C:/projetos/tcc_dsa_usp_esalq/dados/dou/2021/04/02/S02042021.zip\n",
      " arquivo já carregado: C:/projetos/tcc_dsa_usp_esalq/dados/dou/2021/04/03/S03042021.zip\n",
      " arquivo já carregado: C:/projetos/tcc_dsa_usp_esalq/dados/dou/2021/05/01/S01052021.zip\n",
      " arquivo já carregado: C:/projetos/tcc_dsa_usp_esalq/dados/dou/2021/05/02/S02052021.zip\n",
      " arquivo já carregado: C:/projetos/tcc_dsa_usp_esalq/dados/dou/2021/05/03/S03052021.zip\n",
      " arquivo já carregado: C:/projetos/tcc_dsa_usp_esalq/dados/dou/2021/06/01/S01062021.zip\n",
      " arquivo já carregado: C:/projetos/tcc_dsa_usp_esalq/dados/dou/2021/06/02/S02062021.zip\n",
      " arquivo já carregado: C:/projetos/tcc_dsa_usp_esalq/dados/dou/2021/06/03/S03062021.zip\n",
      " arquivo já carregado: C:/projetos/tcc_dsa_usp_esalq/dados/dou/2021/07/01/S01072021.zip\n",
      " arquivo já carregado: C:/projetos/tcc_dsa_usp_esalq/dados/dou/2021/07/02/S02072021.zip\n",
      " arquivo já carregado: C:/projetos/tcc_dsa_usp_esalq/dados/dou/2021/07/03/S03072021.zip\n",
      " arquivo já carregado: C:/projetos/tcc_dsa_usp_esalq/dados/dou/2021/08/01/S01082021.zip\n",
      " arquivo já carregado: C:/projetos/tcc_dsa_usp_esalq/dados/dou/2021/08/02/S02082021.zip\n",
      " arquivo já carregado: C:/projetos/tcc_dsa_usp_esalq/dados/dou/2021/08/03/S03082021.zip\n",
      " arquivo já carregado: C:/projetos/tcc_dsa_usp_esalq/dados/dou/2021/09/01/S01092021.zip\n",
      " arquivo já carregado: C:/projetos/tcc_dsa_usp_esalq/dados/dou/2021/09/02/S02092021.zip\n",
      " arquivo já carregado: C:/projetos/tcc_dsa_usp_esalq/dados/dou/2021/09/03/S03092021.zip\n",
      " arquivo já carregado: C:/projetos/tcc_dsa_usp_esalq/dados/dou/2021/10/01/S01102021.zip\n",
      " arquivo já carregado: C:/projetos/tcc_dsa_usp_esalq/dados/dou/2021/10/02/S02102021.zip\n",
      " arquivo já carregado: C:/projetos/tcc_dsa_usp_esalq/dados/dou/2021/10/03/S03102021.zip\n",
      " arquivo já carregado: C:/projetos/tcc_dsa_usp_esalq/dados/dou/2021/11/01/S01112021.zip\n",
      " arquivo já carregado: C:/projetos/tcc_dsa_usp_esalq/dados/dou/2021/11/02/S02112021.zip\n",
      " arquivo já carregado: C:/projetos/tcc_dsa_usp_esalq/dados/dou/2021/11/03/S03112021.zip\n"
     ]
    },
    {
     "name": "stdout",
     "output_type": "stream",
     "text": [
      " 31% [.....................                                                 ] 306061312 / 986562245"
     ]
    }
   ],
   "source": [
    "def baixa_arquivos(parsed_html):\n",
    "    for link in parsed_html.body.findAll('a', attrs={'class':'resource-url-analytics'}):\n",
    "        url = link.get('href').split(\"?url=\")[1]\n",
    "        filename = \"S\"+link.get('href').split('/S')[-1][0:8]\n",
    "        mes = filename[-6:-4]\n",
    "        ano = filename[-4:]\n",
    "        secao = filename[-8:-6]\n",
    "        path = base_path+\"dou/\"+year+'/'+mes+'/'+secao+'/'\n",
    "        file_download = path + filename + '.zip'\n",
    "        isfile = os.path.isfile(file_download) \n",
    "        os.chdir(path) \n",
    "        if mes in meses :\n",
    "            #print(file_download)\n",
    "            #print(url)\n",
    "            if not isfile:\n",
    "                try:    \n",
    "                    wget.download(url)   \n",
    "                    print(' SUCESSO = download zip file to: ' + file_download + ' from url: '+url)\n",
    "                except:\n",
    "                    print(' ERRO = downloading zip file to: ' + file_download + ' from url: '+url)\n",
    "            else:\n",
    "                print(' arquivo já carregado: ' + file_download)\n",
    "\n",
    "#anos = ['2002','2003','2004','2005','2006','2007','2008','2009','2010','2011','2012','2013','2014','2015',\n",
    "#         '2016','2017','2018','2019','2020','2021','2022']\n",
    "\n",
    "anos=['2019','2020','2021','2022']\n",
    "meses=['01','02','03','04','05','06','07','08','09','10','11','12']\n",
    "\n",
    "\n",
    "print(\"Início do download dos arquivos zip do atos do DOU\")\n",
    "main.show_current_time()\n",
    "print(\"--------------------------------------------------\")\n",
    "\n",
    "for year in anos:\n",
    "    urlopen =  url_base_dou + year \n",
    "    if year == '2017':\n",
    "        urlopen = 'http://dados.gov.br/dataset/diario-oficial-da-uniao'\n",
    "    resp = req.urlopen(urlopen)\n",
    "    conteudo = resp.read(int(resp.getheader('Content-Length')))  \n",
    "    parsed_html = BeautifulSoup(StringIO(conteudo.decode(\"UTF-8\")))\n",
    "    baixa_arquivos(parsed_html)\n",
    "    print(\"Concluído o download dos arquivos zip do ano :\" + year)\n",
    "\n",
    "print(\"--------------------------------------------------\")\n",
    "print(\"Término do download dos arquivos zip do atos do DOU\")\n",
    "main.show_current_time()\n",
    "\n"
   ]
  },
  {
   "cell_type": "markdown",
   "metadata": {},
   "source": [
    "#### Gerando arquivos .CSV"
   ]
  },
  {
   "cell_type": "code",
   "execution_count": null,
   "metadata": {},
   "outputs": [],
   "source": [
    "#anos = ['2019','2020','2021','2022']\n",
    "anos = ['2022']\n",
    "meses = ['01','02','03','04','05','06',\\\n",
    "         '07','08','09','10','11','12']\n",
    "#meses=[]\n",
    "secoes= ['01','02','03']\n",
    "          \n",
    "\n",
    "\n",
    "print(\"Início da geração dos arquivos .csv para cada ano\")\n",
    "main.show_current_time()\n",
    "print(\"--------------------------------------------------\")\n",
    "\n",
    "for ano in anos:\n",
    "    ini = time.time()\n",
    "    contador = 0\n",
    "    count_error = 0  \n",
    "    pasta = base_path +\"dou/\" + ano +'/'\n",
    "    os.chdir(pasta) \n",
    "    csvfileunico = open(ano+'.csv','w', newline='', encoding='utf-8')\n",
    "    csvwriterunico=csv.writer(csvfileunico)\n",
    "    col_names = ['id','tipo','emissor','data','responsavel','cargo'] \n",
    "    csvwriterunico.writerow(col_names)\n",
    "    print(pasta + ano+'.csv')\n",
    "    \n",
    "    for mes in meses:\n",
    "        inim = time.time()\n",
    "        for secao in secoes:\n",
    "            inip = time.time()\n",
    "            #print('ano=' + ano + ' mes=' + mes + ' secao=' + secao)\n",
    "            path = base_path +\"dou/\" + ano+'/'+mes+'/'+secao+'/'\n",
    "            #print(path)\n",
    "            os.chdir(path)      \n",
    "            count_ok = 0\n",
    "            mypath = path\n",
    "            file_download = path + 'S' + secao + mes + ano + '.zip'\n",
    "            isfile = os.path.isfile(file_download) \n",
    "            #print(file_download)\n",
    "            if isfile:  \n",
    "                with zipfile.ZipFile(file_download, 'r') as myzip:\n",
    "                    print(file_download)\n",
    "                    for name in myzip.namelist():\n",
    "                        with myzip.open(name) as myfile:\n",
    "                            try:\n",
    "                                if myfile.name[-3:]  == 'xml':                \n",
    "                                    id=myfile.name[:-4]  \n",
    "                                    tree = ElementTree.parse(myfile)  \n",
    "                                    artigo = tree.getroot().find('article')\n",
    "                                    texto = artigo.find('body').find('Texto')\n",
    "                                    linha = fx.monta_linha(artigo,id,texto.text)\n",
    "                                    contador = contador + 1\n",
    "                                    csvwriterunico.writerow(linha) \n",
    "                                    count_ok = count_ok + 1\n",
    "                            except:\n",
    "                                print(\"Error on parsing ...\" + myfile.name)\n",
    "                                count_error = count_error + 1\n",
    "                    myzip.close()\n",
    "    \n",
    "    csvfileunico.close()\n",
    "\n",
    "    fim = time.time()\n",
    "\n",
    "    print(\"Tempo total: \" + ano + \": \" + str(fim-ini))\n",
    "    fx.show_current_time()\n",
    "    print(\"qtd OK\" , contador)\n",
    "    print(\"qtd ERRO\" , count_error)\n"
   ]
  }
 ],
 "metadata": {
  "celltoolbar": "Slideshow",
  "colab": {
   "collapsed_sections": [],
   "name": "FonteDeDados.ipynb",
   "provenance": []
  },
  "kernelspec": {
   "display_name": "Python 3 (ipykernel)",
   "language": "python",
   "name": "python3"
  },
  "language_info": {
   "codemirror_mode": {
    "name": "ipython",
    "version": 3
   },
   "file_extension": ".py",
   "mimetype": "text/x-python",
   "name": "python",
   "nbconvert_exporter": "python",
   "pygments_lexer": "ipython3",
   "version": "3.9.12"
  }
 },
 "nbformat": 4,
 "nbformat_minor": 4
}
