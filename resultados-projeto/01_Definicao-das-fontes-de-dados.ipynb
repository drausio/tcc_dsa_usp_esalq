{
 "cells": [
  {
   "cell_type": "markdown",
   "metadata": {
    "slideshow": {
     "slide_type": "-"
    }
   },
   "source": [
    "## Trabalho de Conclusão de Curso - TCC\n",
    "#### Turma - DSA212\n",
    "#### Aluno : Drausio Gomes dos Santos\n",
    "#### Orientadora: Gabrielle Maria Romeiro Lombardi\n",
    "#### Tema: Construção e uso de modelos de grafos para representação e análise da estrutura organizacional da administração pública federal.\n",
    "### Resultados do projeto"
   ]
  },
  {
   "cell_type": "markdown",
   "metadata": {
    "slideshow": {
     "slide_type": "slide"
    }
   },
   "source": [
    "## Etapa 1: Definição das fontes de dados\n",
    "<p> A fonte de dado pré-selecionada é proveniente do Portal Brasileiro de Dados Abertos e consiste em uma base de matérias publicadas do DOU.</p>"
   ]
  },
  {
   "cell_type": "markdown",
   "metadata": {
    "colab_type": "text",
    "id": "lvn2tZMuCCqh",
    "slideshow": {
     "slide_type": "slide"
    },
    "tags": []
   },
   "source": [
    "## Fonte de dados do DOU (Diário Oficial da União) no Portal Brasileiro de Dados Abertos \n",
    "### [Dados Abertos gov.br](https://dados.gov.br/dados/organizacoes/visualizar/imprensa-nacional-in)\n",
    "\n",
    "| Ano  | Endereço                  |Ano  | Endereço                  | Ano  | Endereço                  |Ano  | Endereço                  |\n",
    "|------|-------------------------- |------|-------------------------- |------|-------------------------- |------|-------------------------- |\n",
    "|2002| [DOU 2002](http://dados.gov.br/dados/conjuntos-dados/diario-oficial-da-uniao-materias-publicadas-em-2002)|   2003  | [DOU 2003](http://dados.gov.br/dados/conjuntos-dados/diario-oficial-da-uniao-materias-publicadas-em-2003)|   2004  | [DOU 2004](http://dados.gov.br/dados/conjuntos-dados/diario-oficial-da-uniao-materias-publicadas-em-2004)|   2005  | [DOU 2005](http://dados.gov.br/dados/conjuntos-dados/diario-oficial-da-uniao-materias-publicadas-em-2005)|\n",
    "|   2006  | [DOU 2006](http://dados.gov.br/dados/conjuntos-dados/diario-oficial-da-uniao-materias-publicadas-em-2006)|   2007  | [DOU 2007](http://dados.gov.br/dados/conjuntos-dados/diario-oficial-da-uniao-materias-publicadas-em-2007)|   2008  | [DOU 2008](http://dados.gov.br/dados/conjuntos-dados/diario-oficial-da-uniao-materias-publicadas-em-2008)|   2009  | [DOU 2009](http://dados.gov.br/dados/conjuntos-dados/diario-oficial-da-uniao-materias-publicadas-em-2009)|\n",
    "|   2010  | [DOU 2010](http://dados.gov.br/dados/conjuntos-dados/diario-oficial-da-uniao-materias-publicadas-em-2010)|   2011  | [DOU 2011](http://dados.gov.br/dados/conjuntos-dados/diario-oficial-da-uniao-materias-publicadas-em-2011)|   2012  | [DOU 2012](http://dados.gov.br/dados/conjuntos-dados/diario-oficial-da-uniao-materias-publicadas-em-2012)|   2013  | [DOU 2013](http://dados.gov.br/dados/conjuntos-dados/diario-oficial-da-uniao-materias-publicadas-em-2013)|\n",
    "|   2014  | [DOU 2014](http://dados.gov.br/dados/conjuntos-dados/diario-oficial-da-uniao-materias-publicadas-em-2014)|   2015  | [DOU 2015](http://dados.gov.br/dados/conjuntos-dados/diario-oficial-da-uniao-materias-publicadas-em-2015)|   2016  | [DOU 2016](http://dados.gov.br/dados/conjuntos-dados/diario-oficial-da-uniao-materias-publicadas-em-2016)|   2017  | [DOU 2017](http://dados.gov.br/dados/conjuntos-dados/diario-oficial-da-uniao-materias-publicadas-em-2017)|\n",
    "|   2018  | [DOU 2018](http://dados.gov.br/dados/conjuntos-dados/diario-oficial-da-uniao-materias-publicadas-em-2018)|   2019  | [DOU 2019](http://dados.gov.br/dados/conjuntos-dados/diario-oficial-da-uniao-materias-publicadas-em-2019)|   2020  | [DOU 2020](http://dados.gov.br/dados/conjuntos-dados/diario-oficial-da-uniao-materias-publicadas-em-2020)|  2021  | [DOU 2021](http://dados.gov.br/dados/conjuntos-dados/diario-oficial-da-uniao-materias-publicadas-em-2021)|\n",
    "|  2022  | [DOU 2022](http://dados.gov.br/dados/conjuntos-dados/diario-oficial-da-uniao-materias-publicadas-em-2022)|"
   ]
  },
  {
   "cell_type": "markdown",
   "metadata": {},
   "source": [
    "<img src=\"site_pbda.png\" alt=\"Portal Brasileiro de Dados Aberto - DOU\" />"
   ]
  }
 ],
 "metadata": {
  "celltoolbar": "Slideshow",
  "colab": {
   "collapsed_sections": [],
   "name": "FonteDeDados.ipynb",
   "provenance": []
  },
  "kernelspec": {
   "display_name": "Python 3 (ipykernel)",
   "language": "python",
   "name": "python3"
  },
  "language_info": {
   "codemirror_mode": {
    "name": "ipython",
    "version": 3
   },
   "file_extension": ".py",
   "mimetype": "text/x-python",
   "name": "python",
   "nbconvert_exporter": "python",
   "pygments_lexer": "ipython3",
   "version": "3.9.12"
  }
 },
 "nbformat": 4,
 "nbformat_minor": 4
}
