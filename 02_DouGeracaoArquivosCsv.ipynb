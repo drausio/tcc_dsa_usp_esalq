{
 "cells": [
  {
   "cell_type": "markdown",
   "metadata": {},
   "source": [
    "Parâmetros iniciais do caderno notebook"
   ]
  },
  {
   "cell_type": "code",
   "execution_count": 52,
   "metadata": {},
   "outputs": [],
   "source": [
    "base_path = 'C:/projetos/prova-de-conceito/dados/'\n",
    "#base_path = '/content/drive/My Drive/Colab Notebooks/'\n"
   ]
  },
  {
   "cell_type": "markdown",
   "metadata": {
    "colab_type": "text",
    "id": "aWPEHDOcIeVB"
   },
   "source": [
    "Importando as bibliotecas\n"
   ]
  },
  {
   "cell_type": "code",
   "execution_count": 53,
   "metadata": {
    "colab": {
     "base_uri": "https://localhost:8080/",
     "height": 52
    },
    "colab_type": "code",
    "id": "NwULeKAQxzqx",
    "outputId": "a60455b6-b1d8-4867-a3a6-d64f4a070066"
   },
   "outputs": [
    {
     "name": "stdout",
     "output_type": "stream",
     "text": [
      "Versão dopandas: 1.4.2\n"
     ]
    }
   ],
   "source": [
    "\n",
    "import pandas as pd\n",
    "import time\n",
    "import pytz\n",
    "from datetime import datetime\n",
    "import os\n",
    "import csv\n",
    "import requests, zipfile\n",
    "from xml.etree import ElementTree\n",
    "import re\n",
    "import tokenize\n",
    "\n",
    "class Main:     \n",
    "    def show_current_time(self):\n",
    "        ini = time.time()\n",
    "        tz_SP = pytz.timezone('America/Sao_Paulo') \n",
    "        now = datetime.now(tz_SP)\n",
    "        current_time = now.strftime(\"%d/%m/%Y %H:%M:%S\")\n",
    "        print(\"Current Time =\", current_time)\n",
    "        \n",
    "    def monta_linha(self,artigo,id,txt):\n",
    "        tipo= artigo.attrib['artType']\n",
    "        data=artigo.attrib['pubDate']\n",
    "        emissor=artigo.attrib['artCategory']\n",
    "        responsavel=\"\"\n",
    "        cargo=\"\"\n",
    "        texto = txt.split(\"\\\"assina\\\">\")\n",
    "        if(len(texto)>1):\n",
    "            texto1 = texto[1].split(\"</p><p class=\\\"cargo\\\">\")  \n",
    "            responsavel = texto1[0].split(\"<\")[0]\n",
    "            if \"cargo\" in texto[1] and len(texto1) > 1:\n",
    "                cargo = texto1[1].split(\"</p>\")[0]\n",
    "            responsavel=responsavel\n",
    "            \n",
    "        return [id,tipo,emissor,data,responsavel,cargo] \n",
    "\n",
    "        \n",
    "\n",
    "print(\"Versão dopandas: \" + pd.__version__)  \n",
    "  "
   ]
  },
  {
   "cell_type": "markdown",
   "metadata": {
    "colab_type": "text",
    "id": "lte5gloqczFu"
   },
   "source": [
    "Gerando arquivos .CSV"
   ]
  },
  {
   "cell_type": "code",
   "execution_count": 54,
   "metadata": {},
   "outputs": [
    {
     "name": "stdout",
     "output_type": "stream",
     "text": [
      "Current Time = 14/09/2022 15:56:39\n",
      "C:/projetos/prova-de-conceito/dados/dou/2022/2022.csv\n",
      "C:/projetos/prova-de-conceito/dados/dou/2022/01/01/S01012022.zip\n",
      "C:/projetos/prova-de-conceito/dados/dou/2022/01/02/S02012022.zip\n",
      "C:/projetos/prova-de-conceito/dados/dou/2022/01/03/S03012022.zip\n",
      "C:/projetos/prova-de-conceito/dados/dou/2022/02/01/S01022022.zip\n",
      "C:/projetos/prova-de-conceito/dados/dou/2022/02/02/S02022022.zip\n",
      "C:/projetos/prova-de-conceito/dados/dou/2022/02/03/S03022022.zip\n",
      "C:/projetos/prova-de-conceito/dados/dou/2022/03/01/S01032022.zip\n",
      "C:/projetos/prova-de-conceito/dados/dou/2022/03/02/S02032022.zip\n",
      "C:/projetos/prova-de-conceito/dados/dou/2022/03/03/S03032022.zip\n",
      "C:/projetos/prova-de-conceito/dados/dou/2022/04/01/S01042022.zip\n",
      "C:/projetos/prova-de-conceito/dados/dou/2022/04/02/S02042022.zip\n",
      "C:/projetos/prova-de-conceito/dados/dou/2022/04/03/S03042022.zip\n",
      "C:/projetos/prova-de-conceito/dados/dou/2022/05/01/S01052022.zip\n",
      "C:/projetos/prova-de-conceito/dados/dou/2022/05/02/S02052022.zip\n",
      "C:/projetos/prova-de-conceito/dados/dou/2022/05/03/S03052022.zip\n",
      "C:/projetos/prova-de-conceito/dados/dou/2022/06/01/S01062022.zip\n",
      "C:/projetos/prova-de-conceito/dados/dou/2022/06/02/S02062022.zip\n",
      "C:/projetos/prova-de-conceito/dados/dou/2022/06/03/S03062022.zip\n",
      "C:/projetos/prova-de-conceito/dados/dou/2022/07/01/S01072022.zip\n",
      "C:/projetos/prova-de-conceito/dados/dou/2022/07/02/S02072022.zip\n",
      "C:/projetos/prova-de-conceito/dados/dou/2022/07/03/S03072022.zip\n",
      "Tempo total: 2022: 75.72966933250427\n",
      "Current Time = 14/09/2022 15:57:54\n",
      "qtd OK 580407\n",
      "qtd ERRO 0\n"
     ]
    }
   ],
   "source": [
    "#anos = ['2019','2020','2021','2022']\n",
    "anos = ['2022']\n",
    "meses = ['01','02','03','04','05','06',\\\n",
    "         '07','08','09','10','11','12']\n",
    "#meses=[]\n",
    "secoes= ['01','02','03']\n",
    "          \n",
    "\n",
    "fx = Main()\n",
    "\n",
    "fx.show_current_time()\n",
    "\n",
    "for ano in anos:\n",
    "    ini = time.time()\n",
    "    contador = 0\n",
    "    count_error = 0  \n",
    "    pasta = base_path +\"dou/\" + ano +'/'\n",
    "    os.chdir(pasta) \n",
    "    csvfileunico = open(ano+'.csv','w', newline='', encoding='utf-8')\n",
    "    csvwriterunico=csv.writer(csvfileunico)\n",
    "    col_names = ['id','tipo','emissor','data','responsavel','cargo'] \n",
    "    csvwriterunico.writerow(col_names)\n",
    "    print(pasta + ano+'.csv')\n",
    "    \n",
    "    for mes in meses:\n",
    "        inim = time.time()\n",
    "        for secao in secoes:\n",
    "            inip = time.time()\n",
    "            #print('ano=' + ano + ' mes=' + mes + ' secao=' + secao)\n",
    "            path = base_path +\"dou/\" + ano+'/'+mes+'/'+secao+'/'\n",
    "            #print(path)\n",
    "            os.chdir(path)      \n",
    "            count_ok = 0\n",
    "            mypath = path\n",
    "            file_download = path + 'S' + secao + mes + ano + '.zip'\n",
    "            isfile = os.path.isfile(file_download) \n",
    "            #print(file_download)\n",
    "            if isfile:  \n",
    "                with zipfile.ZipFile(file_download, 'r') as myzip:\n",
    "                    print(file_download)\n",
    "                    for name in myzip.namelist():\n",
    "                        with myzip.open(name) as myfile:\n",
    "                            try:\n",
    "                                if myfile.name[-3:]  == 'xml':                \n",
    "                                    id=myfile.name[:-4]  \n",
    "                                    tree = ElementTree.parse(myfile)  \n",
    "                                    artigo = tree.getroot().find('article')\n",
    "                                    texto = artigo.find('body').find('Texto')\n",
    "                                    linha = fx.monta_linha(artigo,id,texto.text)\n",
    "                                    contador = contador + 1\n",
    "                                    csvwriterunico.writerow(linha) \n",
    "                                    count_ok = count_ok + 1\n",
    "                            except:\n",
    "                                print(\"Error on parsing ...\" + myfile.name)\n",
    "                                count_error = count_error + 1\n",
    "                    myzip.close()\n",
    "    \n",
    "    csvfileunico.close()\n",
    "\n",
    "    fim = time.time()\n",
    "\n",
    "    print(\"Tempo total: \" + ano + \": \" + str(fim-ini))\n",
    "    fx.show_current_time()\n",
    "    print(\"qtd OK\" , contador)\n",
    "    print(\"qtd ERRO\" , count_error)\n"
   ]
  },
  {
   "cell_type": "code",
   "execution_count": null,
   "metadata": {},
   "outputs": [],
   "source": []
  }
 ],
 "metadata": {
  "celltoolbar": "Slideshow",
  "colab": {
   "collapsed_sections": [],
   "name": "FonteDeDados.ipynb",
   "provenance": []
  },
  "kernelspec": {
   "display_name": "Python 3 (ipykernel)",
   "language": "python",
   "name": "python3"
  },
  "language_info": {
   "codemirror_mode": {
    "name": "ipython",
    "version": 3
   },
   "file_extension": ".py",
   "mimetype": "text/x-python",
   "name": "python",
   "nbconvert_exporter": "python",
   "pygments_lexer": "ipython3",
   "version": "3.9.12"
  }
 },
 "nbformat": 4,
 "nbformat_minor": 4
}
