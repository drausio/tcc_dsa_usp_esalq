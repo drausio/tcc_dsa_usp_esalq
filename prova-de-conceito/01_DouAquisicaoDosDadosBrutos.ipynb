{
 "cells": [
  {
   "cell_type": "markdown",
   "metadata": {
    "slideshow": {
     "slide_type": "slide"
    }
   },
   "source": [
    "# TCC - DSA T212 - Prova de Conceito"
   ]
  },
  {
   "cell_type": "markdown",
   "metadata": {
    "colab_type": "text",
    "id": "lvn2tZMuCCqh",
    "slideshow": {
     "slide_type": "slide"
    },
    "tags": []
   },
   "source": [
    "## **Buscando os dados na Portal Dados Abertos** [Dados Abertos gov.br](http://dados.gov.br)\n",
    "\n",
    "| Ano  | Endereço                  |Ano  | Endereço                  | Ano  | Endereço                  |Ano  | Endereço                  |\n",
    "|------|-------------------------- |------|-------------------------- |------|-------------------------- |------|-------------------------- |\n",
    "|2002| [DOU 2002](http://dados.gov.br/dataset/diario-oficial-da-uniao-materias-publicadas-em-2002)|   2003  | [DOU 2003](http://dados.gov.br/dataset/diario-oficial-da-uniao-materias-publicadas-em-2003)|   2004  | [DOU 2004](http://dados.gov.br/dataset/diario-oficial-da-uniao-materias-publicadas-em-2004)|   2005  | [DOU 2005](http://dados.gov.br/dataset/diario-oficial-da-uniao-materias-publicadas-em-2005)|\n",
    "|   2006  | [DOU 2006](http://dados.gov.br/dataset/diario-oficial-da-uniao-materias-publicadas-em-2006)|   2007  | [DOU 2007](http://dados.gov.br/dataset/diario-oficial-da-uniao-materias-publicadas-em-2007)|   2008  | [DOU 2008](http://dados.gov.br/dataset/diario-oficial-da-uniao-materias-publicadas-em-2008)|   2009  | [DOU 2009](http://dados.gov.br/dataset/diario-oficial-da-uniao-materias-publicadas-em-2009)|\n",
    "|   2010  | [DOU 2010](http://dados.gov.br/dataset/diario-oficial-da-uniao-materias-publicadas-em-2010)|   2011  | [DOU 2011](http://dados.gov.br/dataset/diario-oficial-da-uniao-materias-publicadas-em-2011)|   2012  | [DOU 2012](http://dados.gov.br/dataset/diario-oficial-da-uniao-materias-publicadas-em-2012)|   2013  | [DOU 2013](http://dados.gov.br/dataset/diario-oficial-da-uniao-materias-publicadas-em-2013)|\n",
    "|   2014  | [DOU 2014](http://dados.gov.br/dataset/diario-oficial-da-uniao-materias-publicadas-em-2014)|   2015  | [DOU 2015](http://dados.gov.br/dataset/diario-oficial-da-uniao-materias-publicadas-em-2015)|   2016  | [DOU 2016](http://dados.gov.br/dataset/diario-oficial-da-uniao-materias-publicadas-em-2016)|   2017  | [DOU 2017](http://dados.gov.br/dataset/diario-oficial-da-uniao-materias-publicadas-em-2017)|\n",
    "|   2018  | [DOU 2018](http://dados.gov.br/dataset/diario-oficial-da-uniao-materias-publicadas-em-2018)|   2019  | [DOU 2019](http://dados.gov.br/dataset/diario-oficial-da-uniao-materias-publicadas-em-2019)|   2020  | [DOU 2020](http://dados.gov.br/dataset/diario-oficial-da-uniao-materias-publicadas-em-2020)|  2021  | [DOU 2021](http://dados.gov.br/dataset/diario-oficial-da-uniao-materias-publicadas-em-2021)|\n",
    "|  2022  | [DOU 2022](http://dados.gov.br/dataset/diario-oficial-da-uniao-materias-publicadas-em-2022)|"
   ]
  },
  {
   "cell_type": "markdown",
   "metadata": {
    "slideshow": {
     "slide_type": "subslide"
    }
   },
   "source": [
    "## Parâmetros iniciais do caderno notebook"
   ]
  },
  {
   "cell_type": "code",
   "execution_count": 73,
   "metadata": {
    "slideshow": {
     "slide_type": "subslide"
    }
   },
   "outputs": [],
   "source": [
    "#configuração da dimensões da tela de apresentação\n",
    "from notebook.services.config import ConfigManager\n",
    "cm = ConfigManager()\n",
    "\n",
    "#defina as dimensões da apresentação.\n",
    "cm.update('livereveal', {\n",
    "              'width': 1000,\n",
    "              'height': 600,\n",
    "              'scroll': True,\n",
    "         })\n",
    "base_path = 'C:/projetos/prova-de-conceito/dados/'\n",
    "#base_path = '/content/drive/My Drive/Colab Notebooks/'\n",
    "url_base_dou = \"http://dados.gov.br/dataset/diario-oficial-da-uniao-materias-publicadas-em-\"\n"
   ]
  },
  {
   "cell_type": "markdown",
   "metadata": {
    "colab_type": "text",
    "id": "aWPEHDOcIeVB",
    "slideshow": {
     "slide_type": "slide"
    }
   },
   "source": [
    "### Importando as bibliotecas\n"
   ]
  },
  {
   "cell_type": "code",
   "execution_count": 75,
   "metadata": {},
   "outputs": [
    {
     "name": "stdout",
     "output_type": "stream",
     "text": [
      "Requirement already satisfied: wget in c:\\programdata\\anaconda3\\envs\\curso-geopandas\\lib\\site-packages (3.2)\n"
     ]
    }
   ],
   "source": [
    "!pip install wget"
   ]
  },
  {
   "cell_type": "code",
   "execution_count": 76,
   "metadata": {
    "colab": {
     "base_uri": "https://localhost:8080/",
     "height": 52
    },
    "colab_type": "code",
    "id": "NwULeKAQxzqx",
    "outputId": "a60455b6-b1d8-4867-a3a6-d64f4a070066",
    "slideshow": {
     "slide_type": "slide"
    }
   },
   "outputs": [
    {
     "name": "stdout",
     "output_type": "stream",
     "text": [
      "Versão pandas: 1.4.4\n",
      "Versão sklearn: 1.1.2\n",
      "Versão urllib.request: 3.9\n"
     ]
    }
   ],
   "source": [
    "import os\n",
    "\n",
    "import pandas as pd\n",
    "print(\"Versão pandas: \" + pd.__version__) \n",
    "\n",
    "import sklearn as sk\n",
    "print(\"Versão sklearn: \" + sk.__version__) \n",
    "\n",
    "import numpy as np\n",
    "import io\n",
    "from sklearn.model_selection import train_test_split\n",
    "\n",
    "import urllib.request as req\n",
    "print(\"Versão urllib.request: \" +req.__version__)\n",
    "\n",
    "from bs4 import BeautifulSoup\n",
    "from io import StringIO\n",
    "import requests, zipfile\n",
    "from xml.etree import ElementTree\n",
    "import os\n",
    "import csv\n",
    "from os import listdir\n",
    "from os.path import isfile, join\n",
    "import time\n",
    "from datetime import datetime\n",
    "import pytz\n",
    "import re\n",
    "import math\n",
    "#import spacy\n",
    "import wget \n",
    "\n",
    "  "
   ]
  },
  {
   "cell_type": "markdown",
   "metadata": {
    "slideshow": {
     "slide_type": "slide"
    }
   },
   "source": [
    "### Funções utilizadas"
   ]
  },
  {
   "cell_type": "code",
   "execution_count": 77,
   "metadata": {
    "slideshow": {
     "slide_type": "slide"
    }
   },
   "outputs": [],
   "source": [
    "class Main:     \n",
    "    def show_current_time(self):\n",
    "        ini = time.time()\n",
    "        tz_SP = pytz.timezone('America/Sao_Paulo') \n",
    "        now = datetime.now(tz_SP)\n",
    "        current_time = now.strftime(\"%d/%m/%Y %H:%M:%S\")\n",
    "        print(\"Current Time =\", current_time)  "
   ]
  },
  {
   "cell_type": "markdown",
   "metadata": {
    "colab_type": "text",
    "id": "Pjy5DcZ-yBCk",
    "slideshow": {
     "slide_type": "slide"
    }
   },
   "source": [
    "### Montando a estrutura de diretórios"
   ]
  },
  {
   "cell_type": "code",
   "execution_count": 78,
   "metadata": {
    "colab": {
     "base_uri": "https://localhost:8080/",
     "height": 69
    },
    "colab_type": "code",
    "id": "tWcq17pbylBE",
    "outputId": "f35815f2-0db1-40e0-eee9-47b455c5218b",
    "slideshow": {
     "slide_type": "slide"
    },
    "tags": []
   },
   "outputs": [
    {
     "name": "stdout",
     "output_type": "stream",
     "text": [
      "C:/projetos/prova-de-conceito/dados/\n",
      "C:/projetos/prova-de-conceito/dados/dou/2002\n",
      "C:/projetos/prova-de-conceito/dados/dou/2003\n",
      "C:/projetos/prova-de-conceito/dados/dou/2004\n",
      "C:/projetos/prova-de-conceito/dados/dou/2005\n",
      "C:/projetos/prova-de-conceito/dados/dou/2006\n",
      "C:/projetos/prova-de-conceito/dados/dou/2007\n",
      "C:/projetos/prova-de-conceito/dados/dou/2008\n",
      "C:/projetos/prova-de-conceito/dados/dou/2009\n",
      "C:/projetos/prova-de-conceito/dados/dou/2010\n",
      "C:/projetos/prova-de-conceito/dados/dou/2011\n",
      "C:/projetos/prova-de-conceito/dados/dou/2012\n",
      "C:/projetos/prova-de-conceito/dados/dou/2013\n",
      "C:/projetos/prova-de-conceito/dados/dou/2014\n",
      "C:/projetos/prova-de-conceito/dados/dou/2015\n",
      "C:/projetos/prova-de-conceito/dados/dou/2016\n",
      "C:/projetos/prova-de-conceito/dados/dou/2017\n",
      "C:/projetos/prova-de-conceito/dados/dou/2018\n",
      "C:/projetos/prova-de-conceito/dados/dou/2019\n",
      "C:/projetos/prova-de-conceito/dados/dou/2020\n",
      "C:/projetos/prova-de-conceito/dados/dou/2021\n",
      "C:/projetos/prova-de-conceito/dados/dou/2022\n",
      "Término da criação da árvore de diretórios.\n"
     ]
    }
   ],
   "source": [
    "try:  \n",
    "    print(base_path)\n",
    "    os.chdir(base_path)\n",
    "    dirname = \"dou\"\n",
    "    isdir = os.path.isdir(base_path+dirname) \n",
    "    if not isdir:\n",
    "        print(\"criando diretório dou em : \"+ base_path+dirname)\n",
    "        os.mkdir(dirname)\n",
    "    path = base_path+dirname+\"/\"\n",
    "    os.chdir(path)\n",
    "    #print(path)\n",
    "  \n",
    "    today = datetime.today()\n",
    "    dir_years = range(2002,today.year+1)\n",
    "    for year in dir_years:\n",
    "        print(path+str(year))\n",
    "        isdir = os.path.isdir(path+str(year))  \n",
    "        if not isdir:\n",
    "          print(\"criando diretorio do ano \" + str(year))\n",
    "          os.mkdir(path+str(year))\n",
    "        os.chdir(path+str(year))\n",
    "        months = ['01','02','03','04','05','06','07','08','09','10','11','12']\n",
    "        for month in months:\n",
    "          #print(path+str(year)+\"/\"+month)\n",
    "          isdir = os.path.isdir(path+str(year)+\"/\"+month)  \n",
    "          if not isdir:\n",
    "            print(\"criando diretorio do mes \" + month +\"/\"+str(year))\n",
    "            os.mkdir(path+str(year)+\"/\"+month)\n",
    "          os.chdir(path+str(year)+\"/\"+month)\n",
    "          dir_secoes = ['01','02','03']\n",
    "          for secao in dir_secoes:\n",
    "            #print(path+str(year)+\"/\"+month+'/'+secao)\n",
    "            isdir = os.path.isdir(path+str(year)+\"/\"+month+'/'+secao)  \n",
    "            if not isdir:\n",
    "              print(\"criando diretorio do mes\" + month + \" seção \" + secao)\n",
    "              os.mkdir(path+str(year)+\"/\"+month+'/'+secao)        \n",
    "except FileExistsError:\n",
    "      print(\"Diretório \" + base_path + dirname + \" já existe.\") \n",
    "except:\n",
    "      print(\"Erro ao criar Diretório \" + base_path + dirname +\" .\")\n",
    "print(\"Término da criação da árvore de diretórios.\") "
   ]
  },
  {
   "cell_type": "markdown",
   "metadata": {
    "colab_type": "text",
    "id": "6QGo5f4B1nHC",
    "slideshow": {
     "slide_type": "slide"
    }
   },
   "source": [
    "### Carregamento dos arquivos .zip com xml da base DOU do portal de dados abertos do governo federal"
   ]
  },
  {
   "cell_type": "code",
   "execution_count": 94,
   "metadata": {
    "colab": {
     "base_uri": "https://localhost:8080/",
     "height": 193
    },
    "colab_type": "code",
    "id": "GqUpD8U8pIY4",
    "outputId": "6fdf6d6f-9553-4f51-9490-fd69cfbf6e1b",
    "scrolled": true,
    "slideshow": {
     "slide_type": "-"
    }
   },
   "outputs": [
    {
     "name": "stdout",
     "output_type": "stream",
     "text": [
      "Current Time = 09/09/2022 10:29:22\n",
      " arquivo já carregado: C:/projetos/prova-de-conceito/dados/dou/2019/01/01/S01012019.zip\n",
      " arquivo já carregado: C:/projetos/prova-de-conceito/dados/dou/2019/01/02/S02012019.zip\n",
      " arquivo já carregado: C:/projetos/prova-de-conceito/dados/dou/2019/01/03/S03012019.zip\n",
      " arquivo já carregado: C:/projetos/prova-de-conceito/dados/dou/2019/02/01/S01022019.zip\n",
      " arquivo já carregado: C:/projetos/prova-de-conceito/dados/dou/2019/02/02/S02022019.zip\n",
      " arquivo já carregado: C:/projetos/prova-de-conceito/dados/dou/2019/02/03/S03022019.zip\n",
      " arquivo já carregado: C:/projetos/prova-de-conceito/dados/dou/2019/03/01/S01032019.zip\n",
      " arquivo já carregado: C:/projetos/prova-de-conceito/dados/dou/2019/03/02/S02032019.zip\n",
      " arquivo já carregado: C:/projetos/prova-de-conceito/dados/dou/2019/03/03/S03032019.zip\n",
      " arquivo já carregado: C:/projetos/prova-de-conceito/dados/dou/2019/04/01/S01042019.zip\n",
      " arquivo já carregado: C:/projetos/prova-de-conceito/dados/dou/2019/04/02/S02042019.zip\n",
      " arquivo já carregado: C:/projetos/prova-de-conceito/dados/dou/2019/04/03/S03042019.zip\n",
      " arquivo já carregado: C:/projetos/prova-de-conceito/dados/dou/2019/05/01/S01052019.zip\n",
      " arquivo já carregado: C:/projetos/prova-de-conceito/dados/dou/2019/05/02/S02052019.zip\n",
      " arquivo já carregado: C:/projetos/prova-de-conceito/dados/dou/2019/05/03/S03052019.zip\n",
      " arquivo já carregado: C:/projetos/prova-de-conceito/dados/dou/2019/06/01/S01062019.zip\n",
      " arquivo já carregado: C:/projetos/prova-de-conceito/dados/dou/2019/06/02/S02062019.zip\n",
      " arquivo já carregado: C:/projetos/prova-de-conceito/dados/dou/2019/06/03/S03062019.zip\n",
      " arquivo já carregado: C:/projetos/prova-de-conceito/dados/dou/2019/07/01/S01072019.zip\n",
      " arquivo já carregado: C:/projetos/prova-de-conceito/dados/dou/2019/07/02/S02072019.zip\n",
      " arquivo já carregado: C:/projetos/prova-de-conceito/dados/dou/2019/07/03/S03072019.zip\n",
      "100% [........................................................................] 45185898 / 45185898 SUCESSO = download zip file to: C:/projetos/prova-de-conceito/dados/dou/2019/08/01/S01082019.zip from url: https://www.in.gov.br/documents/49035712/214905926/S01082019.rar/1329ede4-7c26-40df-727c-0170b626932c?t=1567780838767\n",
      "100% [........................................................................] 16543456 / 16543456 SUCESSO = download zip file to: C:/projetos/prova-de-conceito/dados/dou/2019/08/02/S02082019.zip from url: https://www.in.gov.br/documents/49035712/214905926/S02082019.rar/3bece245-14c8-7f18-213c-19305a76b28d?t=1567780839230\n",
      "100% [........................................................................] 78309859 / 78309859 SUCESSO = download zip file to: C:/projetos/prova-de-conceito/dados/dou/2019/08/03/S03082019.zip from url: https://www.in.gov.br/documents/49035712/214905926/S03082019.rar/f78be50e-66ee-6e12-b872-e3a3c6ca336a?t=1567780840276\n",
      " arquivo já carregado: C:/projetos/prova-de-conceito/dados/dou/2019/09/01/S01092019.zip\n",
      " arquivo já carregado: C:/projetos/prova-de-conceito/dados/dou/2019/09/02/S02092019.zip\n",
      " arquivo já carregado: C:/projetos/prova-de-conceito/dados/dou/2019/09/03/S03092019.zip\n",
      " arquivo já carregado: C:/projetos/prova-de-conceito/dados/dou/2019/10/01/S01102019.zip\n",
      " arquivo já carregado: C:/projetos/prova-de-conceito/dados/dou/2019/10/02/S02102019.zip\n",
      " arquivo já carregado: C:/projetos/prova-de-conceito/dados/dou/2019/10/03/S03102019.zip\n",
      " arquivo já carregado: C:/projetos/prova-de-conceito/dados/dou/2019/11/01/S01112019.zip\n",
      " arquivo já carregado: C:/projetos/prova-de-conceito/dados/dou/2019/11/02/S02112019.zip\n",
      " arquivo já carregado: C:/projetos/prova-de-conceito/dados/dou/2019/11/03/S03112019.zip\n",
      " arquivo já carregado: C:/projetos/prova-de-conceito/dados/dou/2019/12/01/S01122019.zip\n",
      " arquivo já carregado: C:/projetos/prova-de-conceito/dados/dou/2019/12/02/S02122019.zip\n",
      " arquivo já carregado: C:/projetos/prova-de-conceito/dados/dou/2019/12/03/S03122019.zip\n",
      "Concluído o download dos arquivos zip do ano :2019\n",
      "Current Time = 09/09/2022 10:29:52\n",
      " arquivo já carregado: C:/projetos/prova-de-conceito/dados/dou/2020/01/01/S01012020.zip\n",
      " arquivo já carregado: C:/projetos/prova-de-conceito/dados/dou/2020/01/02/S02012020.zip\n",
      " arquivo já carregado: C:/projetos/prova-de-conceito/dados/dou/2020/01/03/S03012020.zip\n",
      " arquivo já carregado: C:/projetos/prova-de-conceito/dados/dou/2020/02/01/S01022020.zip\n",
      " arquivo já carregado: C:/projetos/prova-de-conceito/dados/dou/2020/02/02/S02022020.zip\n",
      " arquivo já carregado: C:/projetos/prova-de-conceito/dados/dou/2020/02/03/S03022020.zip\n",
      " arquivo já carregado: C:/projetos/prova-de-conceito/dados/dou/2020/03/01/S01032020.zip\n",
      " arquivo já carregado: C:/projetos/prova-de-conceito/dados/dou/2020/03/02/S02032020.zip\n",
      " arquivo já carregado: C:/projetos/prova-de-conceito/dados/dou/2020/03/03/S03032020.zip\n",
      " arquivo já carregado: C:/projetos/prova-de-conceito/dados/dou/2020/04/01/S01042020.zip\n",
      " arquivo já carregado: C:/projetos/prova-de-conceito/dados/dou/2020/04/02/S02042020.zip\n",
      " arquivo já carregado: C:/projetos/prova-de-conceito/dados/dou/2020/04/03/S03042020.zip\n",
      " arquivo já carregado: C:/projetos/prova-de-conceito/dados/dou/2020/05/01/S01052020.zip\n",
      " arquivo já carregado: C:/projetos/prova-de-conceito/dados/dou/2020/05/02/S02052020.zip\n",
      " arquivo já carregado: C:/projetos/prova-de-conceito/dados/dou/2020/05/03/S03052020.zip\n",
      " arquivo já carregado: C:/projetos/prova-de-conceito/dados/dou/2020/06/01/S01062020.zip\n",
      " arquivo já carregado: C:/projetos/prova-de-conceito/dados/dou/2020/06/02/S02062020.zip\n",
      " arquivo já carregado: C:/projetos/prova-de-conceito/dados/dou/2020/06/03/S03062020.zip\n",
      " arquivo já carregado: C:/projetos/prova-de-conceito/dados/dou/2020/07/01/S01072020.zip\n",
      " arquivo já carregado: C:/projetos/prova-de-conceito/dados/dou/2020/07/02/S02072020.zip\n",
      " arquivo já carregado: C:/projetos/prova-de-conceito/dados/dou/2020/07/03/S03072020.zip\n",
      " arquivo já carregado: C:/projetos/prova-de-conceito/dados/dou/2020/08/01/S01082020.zip\n",
      " arquivo já carregado: C:/projetos/prova-de-conceito/dados/dou/2020/08/02/S02082020.zip\n",
      " arquivo já carregado: C:/projetos/prova-de-conceito/dados/dou/2020/08/03/S03082020.zip\n",
      " arquivo já carregado: C:/projetos/prova-de-conceito/dados/dou/2020/09/01/S01092020.zip\n",
      " arquivo já carregado: C:/projetos/prova-de-conceito/dados/dou/2020/09/02/S02092020.zip\n",
      " arquivo já carregado: C:/projetos/prova-de-conceito/dados/dou/2020/09/03/S03092020.zip\n",
      " arquivo já carregado: C:/projetos/prova-de-conceito/dados/dou/2020/10/01/S01102020.zip\n",
      " arquivo já carregado: C:/projetos/prova-de-conceito/dados/dou/2020/10/02/S02102020.zip\n",
      " arquivo já carregado: C:/projetos/prova-de-conceito/dados/dou/2020/10/03/S03102020.zip\n",
      " arquivo já carregado: C:/projetos/prova-de-conceito/dados/dou/2020/11/01/S01112020.zip\n",
      " arquivo já carregado: C:/projetos/prova-de-conceito/dados/dou/2020/11/02/S02112020.zip\n",
      " ERRO = downloading zip file to: C:/projetos/prova-de-conceito/dados/dou/2020/11/03/S03112020.zip from url: https://www.in.gov.br/49035712/292952260/S03112020.zip/195d0f89-88a2-363d-254c-ea7d4f95d1cd?t=1607436119019\n",
      " arquivo já carregado: C:/projetos/prova-de-conceito/dados/dou/2020/12/01/S01122020.zip\n",
      " arquivo já carregado: C:/projetos/prova-de-conceito/dados/dou/2020/12/02/S02122020.zip\n",
      " arquivo já carregado: C:/projetos/prova-de-conceito/dados/dou/2020/12/03/S03122020.zip\n",
      "Concluído o download dos arquivos zip do ano :2020\n",
      "Current Time = 09/09/2022 10:29:53\n",
      " arquivo já carregado: C:/projetos/prova-de-conceito/dados/dou/2021/01/01/S01012021.zip\n",
      " arquivo já carregado: C:/projetos/prova-de-conceito/dados/dou/2021/01/02/S02012021.zip\n",
      " arquivo já carregado: C:/projetos/prova-de-conceito/dados/dou/2021/01/03/S03012021.zip\n",
      " arquivo já carregado: C:/projetos/prova-de-conceito/dados/dou/2021/02/01/S01022021.zip\n",
      " arquivo já carregado: C:/projetos/prova-de-conceito/dados/dou/2021/02/02/S02022021.zip\n",
      " arquivo já carregado: C:/projetos/prova-de-conceito/dados/dou/2021/02/03/S03022021.zip\n",
      " arquivo já carregado: C:/projetos/prova-de-conceito/dados/dou/2021/03/01/S01032021.zip\n",
      " arquivo já carregado: C:/projetos/prova-de-conceito/dados/dou/2021/03/02/S02032021.zip\n",
      " arquivo já carregado: C:/projetos/prova-de-conceito/dados/dou/2021/03/03/S03032021.zip\n",
      " arquivo já carregado: C:/projetos/prova-de-conceito/dados/dou/2021/04/01/S01042021.zip\n",
      " arquivo já carregado: C:/projetos/prova-de-conceito/dados/dou/2021/04/02/S02042021.zip\n",
      " arquivo já carregado: C:/projetos/prova-de-conceito/dados/dou/2021/04/03/S03042021.zip\n",
      " arquivo já carregado: C:/projetos/prova-de-conceito/dados/dou/2021/05/01/S01052021.zip\n",
      " arquivo já carregado: C:/projetos/prova-de-conceito/dados/dou/2021/05/02/S02052021.zip\n",
      " arquivo já carregado: C:/projetos/prova-de-conceito/dados/dou/2021/05/03/S03052021.zip\n",
      " arquivo já carregado: C:/projetos/prova-de-conceito/dados/dou/2021/06/01/S01062021.zip\n",
      " arquivo já carregado: C:/projetos/prova-de-conceito/dados/dou/2021/06/02/S02062021.zip\n",
      " arquivo já carregado: C:/projetos/prova-de-conceito/dados/dou/2021/06/03/S03062021.zip\n",
      " arquivo já carregado: C:/projetos/prova-de-conceito/dados/dou/2021/07/01/S01072021.zip\n",
      " arquivo já carregado: C:/projetos/prova-de-conceito/dados/dou/2021/07/02/S02072021.zip\n",
      " arquivo já carregado: C:/projetos/prova-de-conceito/dados/dou/2021/07/03/S03072021.zip\n",
      " arquivo já carregado: C:/projetos/prova-de-conceito/dados/dou/2021/08/01/S01082021.zip\n",
      " arquivo já carregado: C:/projetos/prova-de-conceito/dados/dou/2021/08/02/S02082021.zip\n",
      " arquivo já carregado: C:/projetos/prova-de-conceito/dados/dou/2021/08/03/S03082021.zip\n",
      " arquivo já carregado: C:/projetos/prova-de-conceito/dados/dou/2021/09/01/S01092021.zip\n",
      " arquivo já carregado: C:/projetos/prova-de-conceito/dados/dou/2021/09/02/S02092021.zip\n",
      " arquivo já carregado: C:/projetos/prova-de-conceito/dados/dou/2021/09/03/S03092021.zip\n",
      " arquivo já carregado: C:/projetos/prova-de-conceito/dados/dou/2021/10/01/S01102021.zip\n",
      " arquivo já carregado: C:/projetos/prova-de-conceito/dados/dou/2021/10/02/S02102021.zip\n",
      " arquivo já carregado: C:/projetos/prova-de-conceito/dados/dou/2021/10/03/S03102021.zip\n",
      " arquivo já carregado: C:/projetos/prova-de-conceito/dados/dou/2021/11/01/S01112021.zip\n",
      " arquivo já carregado: C:/projetos/prova-de-conceito/dados/dou/2021/11/02/S02112021.zip\n",
      " arquivo já carregado: C:/projetos/prova-de-conceito/dados/dou/2021/11/03/S03112021.zip\n",
      " arquivo já carregado: C:/projetos/prova-de-conceito/dados/dou/2021/12/01/S01122021.zip\n",
      " arquivo já carregado: C:/projetos/prova-de-conceito/dados/dou/2021/12/02/S02122021.zip\n",
      " arquivo já carregado: C:/projetos/prova-de-conceito/dados/dou/2021/12/03/S03122021.zip\n",
      "Concluído o download dos arquivos zip do ano :2021\n",
      "Current Time = 09/09/2022 10:29:55\n",
      " arquivo já carregado: C:/projetos/prova-de-conceito/dados/dou/2022/01/01/S01012022.zip\n",
      " arquivo já carregado: C:/projetos/prova-de-conceito/dados/dou/2022/01/02/S02012022.zip\n",
      " arquivo já carregado: C:/projetos/prova-de-conceito/dados/dou/2022/01/03/S03012022.zip\n",
      " arquivo já carregado: C:/projetos/prova-de-conceito/dados/dou/2022/02/01/S01022022.zip\n",
      " arquivo já carregado: C:/projetos/prova-de-conceito/dados/dou/2022/02/02/S02022022.zip\n",
      " arquivo já carregado: C:/projetos/prova-de-conceito/dados/dou/2022/02/03/S03022022.zip\n",
      " arquivo já carregado: C:/projetos/prova-de-conceito/dados/dou/2022/03/01/S01032022.zip\n",
      " arquivo já carregado: C:/projetos/prova-de-conceito/dados/dou/2022/03/02/S02032022.zip\n",
      " arquivo já carregado: C:/projetos/prova-de-conceito/dados/dou/2022/03/03/S03032022.zip\n",
      " arquivo já carregado: C:/projetos/prova-de-conceito/dados/dou/2022/04/01/S01042022.zip\n",
      " arquivo já carregado: C:/projetos/prova-de-conceito/dados/dou/2022/04/02/S02042022.zip\n",
      " arquivo já carregado: C:/projetos/prova-de-conceito/dados/dou/2022/04/03/S03042022.zip\n",
      " arquivo já carregado: C:/projetos/prova-de-conceito/dados/dou/2022/05/01/S01052022.zip\n",
      " arquivo já carregado: C:/projetos/prova-de-conceito/dados/dou/2022/05/02/S02052022.zip\n",
      " arquivo já carregado: C:/projetos/prova-de-conceito/dados/dou/2022/05/03/S03052022.zip\n",
      " arquivo já carregado: C:/projetos/prova-de-conceito/dados/dou/2022/06/01/S01062022.zip\n",
      " arquivo já carregado: C:/projetos/prova-de-conceito/dados/dou/2022/06/02/S02062022.zip\n",
      " arquivo já carregado: C:/projetos/prova-de-conceito/dados/dou/2022/06/03/S03062022.zip\n",
      " arquivo já carregado: C:/projetos/prova-de-conceito/dados/dou/2022/07/01/S01072022.zip\n",
      " arquivo já carregado: C:/projetos/prova-de-conceito/dados/dou/2022/07/02/S02072022.zip\n",
      " arquivo já carregado: C:/projetos/prova-de-conceito/dados/dou/2022/07/03/S03072022.zip\n",
      "Concluído o download dos arquivos zip do ano :2022\n",
      "Current Time = 09/09/2022 10:29:56\n"
     ]
    }
   ],
   "source": [
    "#years = ['2002','2003','2004','2005','2006','2007','2008','2009','2010','2011','2012','2013','2014','2015',\n",
    "#         '2016','2017','2018','2019','2020','2021','2022']\n",
    "\n",
    "years=['2019','2020','2021','2022']\n",
    "meses=['01','02','03','04','05','06','07','08','09','10','11','12']\n",
    "#meses = ['01','02','03','04','05','06','07','08','09','10','11','12']\n",
    "\n",
    "\n",
    "fx = Main()\n",
    "\n",
    "fx.show_current_time()\n",
    "\n",
    "\n",
    "for year in years:\n",
    "  urlopen =  url_base_dou + year \n",
    "  if year == '2017':\n",
    "    urlopen = 'http://dados.gov.br/dataset/diario-oficial-da-uniao'\n",
    "  resp = req.urlopen(urlopen)\n",
    "  conteudo = resp.read(int(resp.getheader('Content-Length')))  \n",
    "  parsed_html = BeautifulSoup(StringIO(conteudo.decode(\"UTF-8\")))  \n",
    "  for link in parsed_html.body.findAll('a', attrs={'class':'resource-url-analytics'}):\n",
    "    url = link.get('href').split(\"?url=\")[1]\n",
    "    filename = \"S\"+link.get('href').split('/S')[-1][0:8]\n",
    "    mes = filename[-6:-4]\n",
    "    ano = filename[-4:]\n",
    "    secao = filename[-8:-6]\n",
    "    path = base_path+\"dou/\"+year+'/'+mes+'/'+secao+'/'\n",
    "    file_download = path + filename + '.zip'\n",
    "    isfile = os.path.isfile(file_download) \n",
    "    os.chdir(path) \n",
    "    if mes in meses :\n",
    "        #print(file_download)\n",
    "        #print(url)\n",
    "        if not isfile:\n",
    "            #os.remove(file_download)\n",
    "            try:    \n",
    "                wget.download(url)   \n",
    "                print(' SUCESSO = download zip file to: ' + file_download + ' from url: '+url)\n",
    "            except:\n",
    "                print(' ERRO = downloading zip file to: ' + file_download + ' from url: '+url)\n",
    "        else:\n",
    "            print(' arquivo já carregado: ' + file_download)\n",
    "  print(\"Concluído o download dos arquivos zip do ano :\" + year)\n",
    "  fx.show_current_time()\n",
    "\n"
   ]
  },
  {
   "cell_type": "code",
   "execution_count": null,
   "metadata": {},
   "outputs": [],
   "source": []
  }
 ],
 "metadata": {
  "celltoolbar": "Slideshow",
  "colab": {
   "collapsed_sections": [],
   "name": "FonteDeDados.ipynb",
   "provenance": []
  },
  "kernelspec": {
   "display_name": "Python 3 (ipykernel)",
   "language": "python",
   "name": "python3"
  },
  "language_info": {
   "codemirror_mode": {
    "name": "ipython",
    "version": 3
   },
   "file_extension": ".py",
   "mimetype": "text/x-python",
   "name": "python",
   "nbconvert_exporter": "python",
   "pygments_lexer": "ipython3",
   "version": "3.9.12"
  }
 },
 "nbformat": 4,
 "nbformat_minor": 4
}
