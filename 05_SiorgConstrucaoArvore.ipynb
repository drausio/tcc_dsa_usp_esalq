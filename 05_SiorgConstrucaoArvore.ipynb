{
 "cells": [
  {
   "cell_type": "markdown",
   "metadata": {
    "tags": []
   },
   "source": [
    "# Gerando a estrutura organizacional em rede"
   ]
  },
  {
   "cell_type": "code",
   "execution_count": 1,
   "metadata": {},
   "outputs": [
    {
     "name": "stdout",
     "output_type": "stream",
     "text": [
      "Requirement already satisfied: igraph in c:\\programdata\\anaconda3\\lib\\site-packages (0.10.1)\n",
      "Requirement already satisfied: texttable>=1.6.2 in c:\\programdata\\anaconda3\\lib\\site-packages (from igraph) (1.6.4)\n",
      "Requirement already satisfied: pycairo in c:\\programdata\\anaconda3\\lib\\site-packages (1.21.0)\n",
      "Requirement already satisfied: cairocffi in c:\\programdata\\anaconda3\\lib\\site-packages (1.3.0)\n",
      "Requirement already satisfied: cffi>=1.1.0 in c:\\programdata\\anaconda3\\lib\\site-packages (from cairocffi) (1.15.0)\n",
      "Requirement already satisfied: pycparser in c:\\programdata\\anaconda3\\lib\\site-packages (from cffi>=1.1.0->cairocffi) (2.21)\n",
      "Requirement already satisfied: python-igraph in c:\\programdata\\anaconda3\\lib\\site-packages (0.10.1)\n",
      "Requirement already satisfied: igraph==0.10.1 in c:\\programdata\\anaconda3\\lib\\site-packages (from python-igraph) (0.10.1)\n",
      "Requirement already satisfied: texttable>=1.6.2 in c:\\programdata\\anaconda3\\lib\\site-packages (from igraph==0.10.1->python-igraph) (1.6.4)\n"
     ]
    }
   ],
   "source": [
    "!pip install igraph\n",
    "!pip install pycairo\n",
    "!pip install cairocffi\n",
    "!pip install python-igraph"
   ]
  },
  {
   "cell_type": "code",
   "execution_count": 53,
   "metadata": {},
   "outputs": [
    {
     "name": "stdout",
     "output_type": "stream",
     "text": [
      "igraph-version :  0.10.1\n",
      "{'codigoUnidade': 'http://estruturaorganizacional.dados.gov.br/id/unidade-organizacional/200000', 'codigoUnidadePai': '', 'codigoOrgaoEntidade': 'http://estruturaorganizacional.dados.gov.br/id/unidade-organizacional/200000', 'codigoTipoUnidade': 'http://estruturaorganizacional.dados.gov.br/id/tipo-unidade/ente', 'nome': 'República Federativa do Brasil', 'sigla': ' ', 'codigoEsfera': '', 'codigoPoder': '', 'codigoNaturezaJuridica': None, 'codigoSubNaturezaJuridica': None, 'nivelNormatizacao': 'LEI_DECRETO', 'versaoConsulta': '99.0.0', 'dataInicialVersaoConsulta': '2013-11-11', 'dataFinalVersaoConsulta': None, 'operacao': None, 'codigoUnidadePaiAnterior': None, 'codigoOrgaoEntidadeAnterior': None}\n",
      "200000\n",
      "República Federativa do Brasil\n",
      "\n",
      "---------------------\n",
      "{'codigoUnidade': 'http://estruturaorganizacional.dados.gov.br/id/unidade-organizacional/200001', 'codigoUnidadePai': 'http://estruturaorganizacional.dados.gov.br/id/unidade-organizacional/200000', 'codigoOrgaoEntidade': 'http://estruturaorganizacional.dados.gov.br/id/unidade-organizacional/200001', 'codigoTipoUnidade': 'http://estruturaorganizacional.dados.gov.br/id/tipo-unidade/ente', 'nome': 'União', 'sigla': 'UNIAO', 'codigoEsfera': 'http://estruturaorganizacional.dados.gov.br/id/esfera/1', 'codigoPoder': '', 'codigoNaturezaJuridica': None, 'codigoSubNaturezaJuridica': None, 'nivelNormatizacao': 'LEI_DECRETO', 'versaoConsulta': '99.0.0', 'dataInicialVersaoConsulta': '2013-11-11', 'dataFinalVersaoConsulta': None, 'operacao': None, 'codigoUnidadePaiAnterior': None, 'codigoOrgaoEntidadeAnterior': None}\n",
      "200001\n",
      "União\n",
      "200000\n",
      "---------------------\n",
      "{'codigoUnidade': 'http://estruturaorganizacional.dados.gov.br/id/unidade-organizacional/200002', 'codigoUnidadePai': 'http://estruturaorganizacional.dados.gov.br/id/unidade-organizacional/208615', 'codigoOrgaoEntidade': 'http://estruturaorganizacional.dados.gov.br/id/unidade-organizacional/200002', 'codigoTipoUnidade': 'http://estruturaorganizacional.dados.gov.br/id/tipo-unidade/orgao', 'nome': 'Governo do Distrito Federal', 'sigla': 'GDF', 'codigoEsfera': 'http://estruturaorganizacional.dados.gov.br/id/esfera/2', 'codigoPoder': 'http://estruturaorganizacional.dados.gov.br/id/poder/1', 'codigoNaturezaJuridica': 'http://estruturaorganizacional.dados.gov.br/id/natureza-juridica/3', 'codigoSubNaturezaJuridica': None, 'nivelNormatizacao': 'LEI_DECRETO', 'versaoConsulta': '99.0.0', 'dataInicialVersaoConsulta': '2013-11-11', 'dataFinalVersaoConsulta': None, 'operacao': None, 'codigoUnidadePaiAnterior': None, 'codigoOrgaoEntidadeAnterior': None}\n",
      "200002\n",
      "Governo do Distrito Federal\n",
      "208615\n",
      "---------------------\n",
      "{'codigoUnidade': 'http://estruturaorganizacional.dados.gov.br/id/unidade-organizacional/93634', 'codigoUnidadePai': 'http://estruturaorganizacional.dados.gov.br/id/unidade-organizacional/1', 'codigoOrgaoEntidade': 'http://estruturaorganizacional.dados.gov.br/id/unidade-organizacional/1', 'codigoTipoUnidade': 'http://estruturaorganizacional.dados.gov.br/id/tipo-unidade/unidade-administrativa', 'nome': 'Secretaria-Executiva', 'sigla': 'GAB-FINEP', 'codigoEsfera': 'http://estruturaorganizacional.dados.gov.br/id/esfera/1', 'codigoPoder': 'http://estruturaorganizacional.dados.gov.br/id/poder/1', 'codigoNaturezaJuridica': 'http://estruturaorganizacional.dados.gov.br/id/natureza-juridica/1', 'codigoSubNaturezaJuridica': None, 'nivelNormatizacao': 'LEI_DECRETO', 'versaoConsulta': '99.0.0', 'dataInicialVersaoConsulta': '2013-11-11', 'dataFinalVersaoConsulta': None, 'operacao': None, 'codigoUnidadePaiAnterior': None, 'codigoOrgaoEntidadeAnterior': None}\n",
      "93634\n",
      "Secretaria-Executiva\n",
      "1\n",
      "---------------------\n",
      "{'codigoUnidade': 'http://estruturaorganizacional.dados.gov.br/id/unidade-organizacional/1', 'codigoUnidadePai': 'http://estruturaorganizacional.dados.gov.br/id/unidade-organizacional/267175', 'codigoOrgaoEntidade': 'http://estruturaorganizacional.dados.gov.br/id/unidade-organizacional/1', 'codigoTipoUnidade': 'http://estruturaorganizacional.dados.gov.br/id/tipo-unidade/entidade', 'nome': 'Financiadora de Estudos e Projetos', 'sigla': 'FINEP', 'codigoEsfera': 'http://estruturaorganizacional.dados.gov.br/id/esfera/1', 'codigoPoder': 'http://estruturaorganizacional.dados.gov.br/id/poder/1', 'codigoNaturezaJuridica': 'http://estruturaorganizacional.dados.gov.br/id/natureza-juridica/1', 'codigoSubNaturezaJuridica': None, 'nivelNormatizacao': 'LEI_DECRETO', 'versaoConsulta': '101.0.0', 'dataInicialVersaoConsulta': '2020-09-11', 'dataFinalVersaoConsulta': None, 'operacao': None, 'codigoUnidadePaiAnterior': None, 'codigoOrgaoEntidadeAnterior': None}\n",
      "1\n",
      "Financiadora de Estudos e Projetos\n",
      "267175\n",
      "---------------------\n",
      "{'codigoUnidade': 'http://estruturaorganizacional.dados.gov.br/id/unidade-organizacional/77206', 'codigoUnidadePai': 'http://estruturaorganizacional.dados.gov.br/id/unidade-organizacional/1', 'codigoOrgaoEntidade': 'http://estruturaorganizacional.dados.gov.br/id/unidade-organizacional/1', 'codigoTipoUnidade': 'http://estruturaorganizacional.dados.gov.br/id/tipo-unidade/unidade-colegiada', 'nome': 'Conselho Fiscal', 'sigla': 'CF-FINEP', 'codigoEsfera': 'http://estruturaorganizacional.dados.gov.br/id/esfera/1', 'codigoPoder': 'http://estruturaorganizacional.dados.gov.br/id/poder/1', 'codigoNaturezaJuridica': 'http://estruturaorganizacional.dados.gov.br/id/natureza-juridica/1', 'codigoSubNaturezaJuridica': None, 'nivelNormatizacao': 'LEI_DECRETO', 'versaoConsulta': '99.0.0', 'dataInicialVersaoConsulta': '2013-11-11', 'dataFinalVersaoConsulta': None, 'operacao': None, 'codigoUnidadePaiAnterior': None, 'codigoOrgaoEntidadeAnterior': None}\n",
      "77206\n",
      "Conselho Fiscal\n",
      "1\n",
      "---------------------\n",
      "{'codigoUnidade': 'http://estruturaorganizacional.dados.gov.br/id/unidade-organizacional/56858', 'codigoUnidadePai': 'http://estruturaorganizacional.dados.gov.br/id/unidade-organizacional/36554', 'codigoOrgaoEntidade': 'http://estruturaorganizacional.dados.gov.br/id/unidade-organizacional/1', 'codigoTipoUnidade': 'http://estruturaorganizacional.dados.gov.br/id/tipo-unidade/unidade-colegiada', 'nome': 'Comitê Gestor Interministerial', 'sigla': 'CGI-FNDCT', 'codigoEsfera': 'http://estruturaorganizacional.dados.gov.br/id/esfera/1', 'codigoPoder': 'http://estruturaorganizacional.dados.gov.br/id/poder/1', 'codigoNaturezaJuridica': 'http://estruturaorganizacional.dados.gov.br/id/natureza-juridica/1', 'codigoSubNaturezaJuridica': None, 'nivelNormatizacao': 'ATO_INTERNO', 'versaoConsulta': '99.0.0', 'dataInicialVersaoConsulta': '2013-11-11', 'dataFinalVersaoConsulta': None, 'operacao': None, 'codigoUnidadePaiAnterior': None, 'codigoOrgaoEntidadeAnterior': None}\n",
      "56858\n",
      "Comitê Gestor Interministerial\n",
      "36554\n",
      "---------------------\n",
      "{'codigoUnidade': 'http://estruturaorganizacional.dados.gov.br/id/unidade-organizacional/93633', 'codigoUnidadePai': 'http://estruturaorganizacional.dados.gov.br/id/unidade-organizacional/1', 'codigoOrgaoEntidade': 'http://estruturaorganizacional.dados.gov.br/id/unidade-organizacional/1', 'codigoTipoUnidade': 'http://estruturaorganizacional.dados.gov.br/id/tipo-unidade/unidade-administrativa', 'nome': 'Diretoria de Inovação para o Desenvolvimento Econômico e Social', 'sigla': 'GAB-FINEP', 'codigoEsfera': 'http://estruturaorganizacional.dados.gov.br/id/esfera/1', 'codigoPoder': 'http://estruturaorganizacional.dados.gov.br/id/poder/1', 'codigoNaturezaJuridica': 'http://estruturaorganizacional.dados.gov.br/id/natureza-juridica/1', 'codigoSubNaturezaJuridica': None, 'nivelNormatizacao': 'LEI_DECRETO', 'versaoConsulta': '99.0.0', 'dataInicialVersaoConsulta': '2013-11-11', 'dataFinalVersaoConsulta': None, 'operacao': None, 'codigoUnidadePaiAnterior': None, 'codigoOrgaoEntidadeAnterior': None}\n",
      "93633\n",
      "Diretoria de Inovação para o Desenvolvimento Econômico e Social\n",
      "1\n",
      "---------------------\n",
      "{'codigoUnidade': 'http://estruturaorganizacional.dados.gov.br/id/unidade-organizacional/93631', 'codigoUnidadePai': 'http://estruturaorganizacional.dados.gov.br/id/unidade-organizacional/1', 'codigoOrgaoEntidade': 'http://estruturaorganizacional.dados.gov.br/id/unidade-organizacional/1', 'codigoTipoUnidade': 'http://estruturaorganizacional.dados.gov.br/id/tipo-unidade/unidade-administrativa', 'nome': 'Diretoria de Administração e Finanças', 'sigla': 'GAB-FINEP', 'codigoEsfera': 'http://estruturaorganizacional.dados.gov.br/id/esfera/1', 'codigoPoder': 'http://estruturaorganizacional.dados.gov.br/id/poder/1', 'codigoNaturezaJuridica': 'http://estruturaorganizacional.dados.gov.br/id/natureza-juridica/1', 'codigoSubNaturezaJuridica': None, 'nivelNormatizacao': 'LEI_DECRETO', 'versaoConsulta': '99.0.0', 'dataInicialVersaoConsulta': '2013-11-11', 'dataFinalVersaoConsulta': None, 'operacao': None, 'codigoUnidadePaiAnterior': None, 'codigoOrgaoEntidadeAnterior': None}\n",
      "93631\n",
      "Diretoria de Administração e Finanças\n",
      "1\n",
      "---------------------\n",
      "{'codigoUnidade': 'http://estruturaorganizacional.dados.gov.br/id/unidade-organizacional/36256', 'codigoUnidadePai': 'http://estruturaorganizacional.dados.gov.br/id/unidade-organizacional/36554', 'codigoOrgaoEntidade': 'http://estruturaorganizacional.dados.gov.br/id/unidade-organizacional/1', 'codigoTipoUnidade': 'http://estruturaorganizacional.dados.gov.br/id/tipo-unidade/unidade-colegiada', 'nome': 'Comitê de Coordenação', 'sigla': 'CC-MCT', 'codigoEsfera': 'http://estruturaorganizacional.dados.gov.br/id/esfera/1', 'codigoPoder': 'http://estruturaorganizacional.dados.gov.br/id/poder/1', 'codigoNaturezaJuridica': 'http://estruturaorganizacional.dados.gov.br/id/natureza-juridica/1', 'codigoSubNaturezaJuridica': None, 'nivelNormatizacao': 'ATO_INTERNO', 'versaoConsulta': '99.0.0', 'dataInicialVersaoConsulta': '2013-11-11', 'dataFinalVersaoConsulta': None, 'operacao': None, 'codigoUnidadePaiAnterior': None, 'codigoOrgaoEntidadeAnterior': None}\n",
      "36256\n",
      "Comitê de Coordenação\n",
      "36554\n",
      "---------------------\n"
     ]
    }
   ],
   "source": [
    "import time\n",
    "import datetime as dt\n",
    "import pickle\n",
    "import igraph as ig\n",
    "print(\"igraph-version : \",ig.__version__)\n",
    "import cairo\n",
    "import pandas as pd\n",
    "import json\n",
    "\n",
    "base_path = \"C:/projetos/prova-de-conceito/dados/siorg/\"\n",
    "\n",
    "url_base_siorg = \"http://estruturaorganizacional.dados.gov.br/doc/\"\n",
    "\n",
    "path = ['estrutura-organizacional-completa.json'\n",
    "            ,'estrutura-organizacional-resumida.json',\n",
    "            'orgao-entidade-completa.json','orgao-entidade-resumida.json',\n",
    "            'estrutura-organizacional-alteracoes.json']\n",
    "\n",
    "from urllib.request import urlopen\n",
    "\n",
    "with urlopen(url_base_siorg + 'estrutura-organizacional/resumida') as response:\n",
    "    body = response.read()\n",
    "\n",
    "data = json.loads(body)   \n",
    "\n",
    "for i in data['unidades'][:10]:\n",
    "    print(i)\n",
    "    codigos = i['codigoUnidade'].split(\"/\")\n",
    "    print(codigos[len(codigos) - 1]) \n",
    "    print(i['nome'])\n",
    "    codigosPai = i['codigoUnidadePai'].split(\"/\")\n",
    "    print(codigosPai[len(codigosPai) - 1])\n",
    "    print(\"---------------------\")\n"
   ]
  },
  {
   "cell_type": "code",
   "execution_count": 110,
   "metadata": {},
   "outputs": [
    {
     "name": "stdout",
     "output_type": "stream",
     "text": [
      "IGRAPH DN-- 79583 79582 -- Unidades Organizacionais da Administração Pública - Siorg\n",
      "+ attr: name (g), codigo (v), codigoPai (v), name (v), nome (v)\n",
      "--- 338.12905049324036 seconds ---\n",
      "--- 5.635484174887339 minutes ---\n"
     ]
    }
   ],
   "source": [
    "g = ig.Graph(directed=True)\n",
    "g[\"name\"]=\"Unidades Organizacionais da Administração Pública - Siorg\"\n",
    "\n",
    "start_time = time.time()\n",
    "\n",
    "\n",
    "for i in data['unidades']:\n",
    "    try:\n",
    "        vert = g.vs.find(i['codigoUnidade'])             \n",
    "    except:\n",
    "        codigos = i['codigoUnidade'].split(\"/\")         \n",
    "        g.add_vertices(codigos[len(codigos) - 1])\n",
    "        vert = g.vs.find(codigos[len(codigos) - 1])\n",
    "        vert[\"codigo\"] = (codigos[len(codigos) - 1])        \n",
    "        vert[\"nome\"] = i[\"nome\"]\n",
    "        codigosPai = i['codigoUnidadePai'].split(\"/\")\n",
    "        vert[\"codigoPai\"] = codigosPai[len(codigosPai) - 1]\n",
    "        #print(i['nome'])\n",
    "        #print(\"u\",codigos[len(codigos) - 1])\n",
    "        \n",
    "\n",
    "for i in data['unidades']:\n",
    "        codigos = i['codigoUnidade'].split(\"/\")         \n",
    "        codigosPai = i['codigoUnidadePai'].split(\"/\")\n",
    "        try:            \n",
    "            vertS = g.vs.find(codigosPai[len(codigosPai) - 1])\n",
    "            vertT = g.vs.find(codigos[len(codigos) - 1])\n",
    "            g.add_edges([(vertS, vertT)])\n",
    "        except:\n",
    "            None\n",
    "        \n",
    "\n",
    "#for vs in g.vs:\n",
    "#    print(vs)\n",
    "                \n",
    "print(g.summary())\n",
    "\n",
    "with open(\"grafoSiorg.pkl\", 'wb') as pickle_file:\n",
    "    pickle.dump(g, pickle_file)\n",
    "    \n",
    "print(\"--- %s seconds ---\" % (time.time() - start_time))\n",
    "print(\"---\",(time.time() - start_time)/60, \"minutes ---\")\n",
    "\n"
   ]
  },
  {
   "cell_type": "code",
   "execution_count": 76,
   "metadata": {},
   "outputs": [],
   "source": [
    "with cairo.SVGSurface(\"example.svg\", 200, 200) as surface:\n",
    "    context = cairo.Context(surface)\n",
    "    x, y, x1, y1 = 0.1, 0.5, 0.4, 0.9\n",
    "    x2, y2, x3, y3 = 0.6, 0.1, 0.9, 0.5\n",
    "    context.scale(200, 200)\n",
    "    context.set_line_width(0.04)\n",
    "    context.move_to(x, y)\n",
    "    context.curve_to(x1, y1, x2, y2, x3, y3)\n",
    "    context.stroke()\n",
    "    context.set_source_rgba(1, 0.2, 0.2, 0.6)\n",
    "    context.set_line_width(0.02)\n",
    "    context.move_to(x, y)\n",
    "    context.line_to(x1, y1)\n",
    "    context.move_to(x2, y2)\n",
    "    context.line_to(x3, y3)\n",
    "    context.stroke()"
   ]
  },
  {
   "cell_type": "code",
   "execution_count": null,
   "metadata": {},
   "outputs": [],
   "source": []
  }
 ],
 "metadata": {
  "celltoolbar": "Slideshow",
  "colab": {
   "collapsed_sections": [],
   "name": "FonteDeDados.ipynb",
   "provenance": []
  },
  "kernelspec": {
   "display_name": "Python 3 (ipykernel)",
   "language": "python",
   "name": "python3"
  },
  "language_info": {
   "codemirror_mode": {
    "name": "ipython",
    "version": 3
   },
   "file_extension": ".py",
   "mimetype": "text/x-python",
   "name": "python",
   "nbconvert_exporter": "python",
   "pygments_lexer": "ipython3",
   "version": "3.9.12"
  }
 },
 "nbformat": 4,
 "nbformat_minor": 4
}
