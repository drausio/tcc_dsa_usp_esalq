{
 "cells": [
  {
   "cell_type": "markdown",
   "metadata": {
    "slideshow": {
     "slide_type": "slide"
    }
   },
   "source": [
    "## Trabalho de Conclusão de Curso - TCC\n",
    "#### Turma - DSA T212\n",
    "#### Aluno : Drausio Gomes dos Santos\n",
    "#### Orientadora: Gabrielle Maria Romeiro Lombardi\n",
    "#### Tema: Construção e uso de modelos de grafos para representação e análise da estrutura organizacional da administração pública federal.\n",
    "### Resultados do projeto"
   ]
  },
  {
   "cell_type": "markdown",
   "metadata": {
    "colab_type": "text",
    "id": "lvn2tZMuCCqh",
    "slideshow": {
     "slide_type": "slide"
    },
    "tags": []
   },
   "source": [
    "## Etapa 2: Pré processamento dos dados\n",
    "<p> Procedimentos para recuperação e tratamento das fontes de dados originais, de forma a serem utilizadas em linguagem de programação que possibilite a construção de modelo de grafos</p>"
   ]
  },
  {
   "cell_type": "markdown",
   "metadata": {
    "slideshow": {
     "slide_type": "subslide"
    }
   },
   "source": [
    "##### Parâmetros iniciais do caderno notebook"
   ]
  },
  {
   "cell_type": "code",
   "execution_count": 1,
   "metadata": {
    "slideshow": {
     "slide_type": "subslide"
    }
   },
   "outputs": [],
   "source": [
    "base_path = 'C:/projetos/tcc_dsa_usp_esalq/dados/'\n",
    "#base_path = '/content/drive/My Drive/Colab Notebooks/'\n",
    "url_base_dou = \"http://dados.gov.br/dados/conjuntos-dados/diario-oficial-da-uniao-materias-publicadas-em-\"\n",
    "url_base_siorg = \"http://estruturaorganizacional.dados.gov.br/doc/\""
   ]
  },
  {
   "cell_type": "markdown",
   "metadata": {
    "colab_type": "text",
    "id": "aWPEHDOcIeVB",
    "slideshow": {
     "slide_type": "slide"
    }
   },
   "source": [
    "#### Importando as bibliotecas\n"
   ]
  },
  {
   "cell_type": "code",
   "execution_count": 2,
   "metadata": {},
   "outputs": [
    {
     "name": "stdout",
     "output_type": "stream",
     "text": [
      "Defaulting to user installation because normal site-packages is not writeable\n",
      "Requirement already satisfied: wget in c:\\programdata\\anaconda3\\lib\\site-packages (3.2)\n",
      "Defaulting to user installation because normal site-packages is not writeable\n",
      "Requirement already satisfied: selenium in c:\\users\\admin\\appdata\\roaming\\python\\python39\\site-packages (4.7.2)\n",
      "Requirement already satisfied: trio~=0.17 in c:\\users\\admin\\appdata\\roaming\\python\\python39\\site-packages (from selenium) (0.22.0)\n",
      "Requirement already satisfied: certifi>=2021.10.8 in c:\\programdata\\anaconda3\\lib\\site-packages (from selenium) (2021.10.8)\n",
      "Requirement already satisfied: trio-websocket~=0.9 in c:\\users\\admin\\appdata\\roaming\\python\\python39\\site-packages (from selenium) (0.9.2)\n",
      "Requirement already satisfied: urllib3[socks]~=1.26 in c:\\programdata\\anaconda3\\lib\\site-packages (from selenium) (1.26.9)\n",
      "Requirement already satisfied: attrs>=19.2.0 in c:\\programdata\\anaconda3\\lib\\site-packages (from trio~=0.17->selenium) (21.4.0)\n",
      "Requirement already satisfied: async-generator>=1.9 in c:\\users\\admin\\appdata\\roaming\\python\\python39\\site-packages (from trio~=0.17->selenium) (1.10)\n",
      "Requirement already satisfied: cffi>=1.14 in c:\\programdata\\anaconda3\\lib\\site-packages (from trio~=0.17->selenium) (1.15.0)\n",
      "Requirement already satisfied: exceptiongroup>=1.0.0rc9 in c:\\users\\admin\\appdata\\roaming\\python\\python39\\site-packages (from trio~=0.17->selenium) (1.1.0)\n",
      "Requirement already satisfied: sortedcontainers in c:\\programdata\\anaconda3\\lib\\site-packages (from trio~=0.17->selenium) (2.4.0)\n",
      "Requirement already satisfied: sniffio in c:\\programdata\\anaconda3\\lib\\site-packages (from trio~=0.17->selenium) (1.2.0)\n",
      "Requirement already satisfied: idna in c:\\programdata\\anaconda3\\lib\\site-packages (from trio~=0.17->selenium) (3.3)\n",
      "Requirement already satisfied: outcome in c:\\users\\admin\\appdata\\roaming\\python\\python39\\site-packages (from trio~=0.17->selenium) (1.2.0)\n",
      "Requirement already satisfied: pycparser in c:\\programdata\\anaconda3\\lib\\site-packages (from cffi>=1.14->trio~=0.17->selenium) (2.21)\n",
      "Requirement already satisfied: wsproto>=0.14 in c:\\users\\admin\\appdata\\roaming\\python\\python39\\site-packages (from trio-websocket~=0.9->selenium) (1.2.0)\n",
      "Requirement already satisfied: PySocks!=1.5.7,<2.0,>=1.5.6 in c:\\programdata\\anaconda3\\lib\\site-packages (from urllib3[socks]~=1.26->selenium) (1.7.1)\n",
      "Requirement already satisfied: h11<1,>=0.9.0 in c:\\users\\admin\\appdata\\roaming\\python\\python39\\site-packages (from wsproto>=0.14->trio-websocket~=0.9->selenium) (0.14.0)\n"
     ]
    }
   ],
   "source": [
    "!pip install wget\n",
    "!pip install selenium"
   ]
  },
  {
   "cell_type": "code",
   "execution_count": 3,
   "metadata": {
    "colab": {
     "base_uri": "https://localhost:8080/",
     "height": 52
    },
    "colab_type": "code",
    "id": "NwULeKAQxzqx",
    "outputId": "a60455b6-b1d8-4867-a3a6-d64f4a070066",
    "slideshow": {
     "slide_type": "slide"
    }
   },
   "outputs": [
    {
     "name": "stdout",
     "output_type": "stream",
     "text": [
      "Python 3.9.12\n",
      "\n",
      "selenium: 4.7.2 - (https://pypi.org/project/selenium/)\n",
      "pandas: 1.4.2 - (https://pypi.org/project/pandas/)\n",
      "wget: 3.2 - (https://pypi.org/project/wget/)\n",
      "urllib.request: 3.9 - (https://docs.python.org/3/library/urllib.request.html)\n",
      "bs4: 4.11.1 - (https://pypi.org/project/bs4/)\n",
      "requests: 2.27.1 - (https://pypi.org/project/requests/)\n",
      "csv: 1.0 - (https://pypi.org/project/csv/)\n",
      "pytz: 2021.3 - (https://pypi.org/project/pytz/)\n"
     ]
    }
   ],
   "source": [
    "!python --version\n",
    "import os\n",
    "from os import listdir\n",
    "from os.path import isfile, join\n",
    "from io import StringIO\n",
    "from zipfile import ZipFile\n",
    "from xml.etree import ElementTree\n",
    "import time\n",
    "from datetime import datetime\n",
    "\n",
    "print(\"\")\n",
    "import selenium\n",
    "print(\"selenium: \" + selenium.__version__+ \" - (https://pypi.org/project/selenium/)\") \n",
    "\n",
    "import pandas as pd\n",
    "print(\"pandas: \" + pd.__version__+ \" - (https://pypi.org/project/pandas/)\") \n",
    "\n",
    "import wget   \n",
    "print(\"wget: \" +wget.__version__+ \" - (https://pypi.org/project/wget/)\")\n",
    "\n",
    "import urllib.request as req\n",
    "print(\"urllib.request: \" +req.__version__+ \" - (https://docs.python.org/3/library/urllib.request.html)\")\n",
    "\n",
    "import bs4\n",
    "from bs4 import BeautifulSoup\n",
    "print(\"bs4: \" + bs4.__version__+ \" - (https://pypi.org/project/bs4/)\")\n",
    "\n",
    "import requests\n",
    "print(\"requests: \" + requests.__version__ + \" - (https://pypi.org/project/requests/)\")\n",
    "\n",
    "import csv\n",
    "print(\"csv: \" + csv.__version__ + \" - (https://pypi.org/project/csv/)\")\n",
    "\n",
    "import pytz\n",
    "print(\"pytz: \" + pytz.__version__  + \" - (https://pypi.org/project/pytz/)\")\n",
    "\n",
    "\n"
   ]
  },
  {
   "cell_type": "markdown",
   "metadata": {
    "slideshow": {
     "slide_type": "slide"
    }
   },
   "source": [
    "#### Funções globais"
   ]
  },
  {
   "cell_type": "code",
   "execution_count": 4,
   "metadata": {
    "slideshow": {
     "slide_type": "slide"
    }
   },
   "outputs": [],
   "source": [
    "class Main:     \n",
    "    def show_current_time(self):\n",
    "        ini = time.time()\n",
    "        tz_SP = pytz.timezone('America/Sao_Paulo') \n",
    "        now = datetime.now(tz_SP)\n",
    "        current_time = now.strftime(\"%d/%m/%Y %H:%M:%S\")\n",
    "        print(\"Current Time =\", current_time)  \n",
    "\n",
    "main = Main()"
   ]
  },
  {
   "cell_type": "markdown",
   "metadata": {
    "colab_type": "text",
    "id": "Pjy5DcZ-yBCk",
    "slideshow": {
     "slide_type": "slide"
    }
   },
   "source": [
    "#### Montando a estrutura de diretórios para os dados do DOU"
   ]
  },
  {
   "cell_type": "code",
   "execution_count": 5,
   "metadata": {
    "colab": {
     "base_uri": "https://localhost:8080/",
     "height": 69
    },
    "colab_type": "code",
    "id": "tWcq17pbylBE",
    "outputId": "f35815f2-0db1-40e0-eee9-47b455c5218b",
    "slideshow": {
     "slide_type": "slide"
    },
    "tags": []
   },
   "outputs": [
    {
     "name": "stdout",
     "output_type": "stream",
     "text": [
      "Início da criação da árvore de diretórios.\n",
      "Current Time = 11/01/2023 10:03:11\n",
      "diretório raiz C:/projetos/tcc_dsa_usp_esalq/dados/    já existente\n",
      "diretório dou  C:/projetos/tcc_dsa_usp_esalq/dados/dou já existente\n",
      "Término da criação da árvore de diretórios.\n",
      "Current Time = 11/01/2023 10:03:12\n"
     ]
    }
   ],
   "source": [
    "def monta_pastas_secoes(base_path, month):\n",
    "    os.chdir(base_path)\n",
    "    dir_secoes = ['01','02','03']\n",
    "    for secao in dir_secoes:\n",
    "        isdir = os.path.isdir(base_path+'/'+secao)  \n",
    "        if not isdir:\n",
    "            print(\"criando diretorio do mes: \" + month + \" seção: \" + secao)\n",
    "            os.mkdir(base_path +'/'+secao) \n",
    "    \n",
    "def monta_pastas_meses(bash_path, year):\n",
    "    os.chdir(bash_path)\n",
    "    months = ['01','02','03','04','05','06','07','08','09','10','11','12']\n",
    "    for month in months:\n",
    "        isdir = os.path.isdir(bash_path+\"/\"+month)\n",
    "        if not isdir:\n",
    "            print(\"criando diretorio do mes \" + month +\"/\"+str(year))\n",
    "            os.mkdir(bash_path +\"/\"+month)\n",
    "        monta_pastas_secoes(bash_path+\"/\"+month, month)\n",
    "\n",
    "def monta_pastas_anos(base_path):\n",
    "    path=base_path+\"dou\"\n",
    "    os.chdir(path)\n",
    "    years = range(2002,datetime.today().year+1)\n",
    "    for year in years:\n",
    "        isdir = os.path.isdir(path+\"/\"+str(year))  \n",
    "        if not isdir:\n",
    "            print(\"criando diretorio do ano \" + str(year))\n",
    "            os.mkdir(path+\"/\"+str(year))    \n",
    "        monta_pastas_meses(path+\"/\"+str(year),year)\n",
    "    \n",
    "def montando_estrutura_de_pastas():\n",
    "    monta_pastas_anos(base_path)\n",
    "    \n",
    "def criando_diretorio_raiz():\n",
    "    isdir = os.path.isdir(base_path) \n",
    "    if not isdir:\n",
    "        print(\"criando diretório raiz em : \"+ base_path)\n",
    "        os.mkdir(base_path)\n",
    "    else:\n",
    "        print(\"diretório raiz \"+ base_path + \"    já existente\")    \n",
    "    os.chdir(base_path)\n",
    "    dirname = \"dou\"\n",
    "    isdir = os.path.isdir(base_path+dirname) \n",
    "    if not isdir:\n",
    "        print(\"criando diretório dou em : \"+ base_path+dirname)\n",
    "        os.mkdir(dirname)\n",
    "    else:\n",
    "        print(\"diretório dou  \"+ base_path+dirname + \" já existente\")\n",
    "    \n",
    "print(\"Início da criação da árvore de diretórios.\")    \n",
    "main.show_current_time()\n",
    "\n",
    "criando_diretorio_raiz()\n",
    "montando_estrutura_de_pastas()\n",
    "               \n",
    "print(\"Término da criação da árvore de diretórios.\")\n",
    "main.show_current_time()\n"
   ]
  },
  {
   "cell_type": "markdown",
   "metadata": {
    "colab_type": "text",
    "id": "6QGo5f4B1nHC",
    "slideshow": {
     "slide_type": "slide"
    }
   },
   "source": [
    "#### Carregamento dos arquivos .zip com xml da base DOU do portal de dados abertos do governo federal ( nova rotina em fase de desenvolvimento em virtude de mudanças no portal de dados abertos ) .\n",
    "###### Obs. Enquanto se dá a adequação do código os arquivos devem ser baixados manualmente e colocados na estrutura de diretório criada nos passos anteriores"
   ]
  },
  {
   "cell_type": "code",
   "execution_count": 6,
   "metadata": {},
   "outputs": [],
   "source": [
    "from selenium import webdriver\n",
    "from selenium.webdriver.chrome.options import Options\n",
    "from selenium.webdriver.common.by import By\n",
    "\n",
    "def executeTest():\n",
    "    global driver\n",
    "    driver.get('https://dados.gov.br/dados/conjuntos-dados/diario-oficial-da-uniao-materias-publicadas-em-2022')\n",
    "    time.sleep(7)\n",
    "    element = driver.find_elements(By.XPATH, '//header/button[./span[text()=\"Recursos\"]]')\n",
    "    element[0].click()\n",
    "    time.sleep(3)\n",
    "    element1 = driver.find_elements(By.XPATH, '//div/button[text()=\" Acessar o recurso \"]')\n",
    "    #print(element1[0].tag_name)\n",
    "    element1[0].click()\n",
    "    time.sleep(7)\n",
    "\n",
    "def startWebDriver():\n",
    "    global driver\n",
    "    options = Options()\n",
    "    options.add_argument(\"--disable-infobars\")\n",
    "    driver = webdriver.Chrome(options=options)\n",
    "\n",
    "\n",
    "startWebDriver()\n",
    "executeTest()\n",
    "driver.quit()"
   ]
  },
  {
   "cell_type": "code",
   "execution_count": 7,
   "metadata": {
    "colab": {
     "base_uri": "https://localhost:8080/",
     "height": 193
    },
    "colab_type": "code",
    "id": "GqUpD8U8pIY4",
    "outputId": "6fdf6d6f-9553-4f51-9490-fd69cfbf6e1b",
    "scrolled": true,
    "slideshow": {
     "slide_type": "-"
    }
   },
   "outputs": [
    {
     "name": "stdout",
     "output_type": "stream",
     "text": [
      "Current Time = 11/01/2023 10:03:35\n",
      "--------------------------------------------------\n",
      "--------------------------------------------------\n",
      "Rotina desativada\n",
      "Current Time = 11/01/2023 10:03:35\n"
     ]
    }
   ],
   "source": [
    "def baixa_arquivos(parsed_html):\n",
    "    for link in parsed_html.body.findAll('a', attrs={'class':'resource-url-analytics'}):\n",
    "        url = link.get('href').split(\"?url=\")[1]\n",
    "        filename = \"S\"+link.get('href').split('/S')[-1][0:8]\n",
    "        mes = filename[-6:-4]\n",
    "        ano = filename[-4:]\n",
    "        secao = filename[-8:-6]\n",
    "        path = base_path+\"dou/\"+year+'/'+mes+'/'+secao+'/'\n",
    "        file_download = path + filename + '.zip'\n",
    "        isfile = os.path.isfile(file_download) \n",
    "        os.chdir(path) \n",
    "        if mes in meses :\n",
    "            #print(file_download)\n",
    "            #print(url)\n",
    "            if not isfile:\n",
    "                try:    \n",
    "                    wget.download(url)   \n",
    "                    print(' SUCESSO = download zip file to: ' + file_download + ' from url: '+url)\n",
    "                except:\n",
    "                    print(' ERRO = downloading zip file to: ' + file_download + ' from url: '+url)\n",
    "            else:\n",
    "                print(' arquivo já carregado: ' + file_download)\n",
    "\n",
    "#anos = ['2002','2003','2004','2005','2006','2007','2008','2009','2010','2011','2012','2013','2014','2015',\n",
    "#         '2016','2017','2018','2019','2020','2021','2022']\n",
    "\n",
    "anos=['2019','2020','2021','2022']\n",
    "meses=['01','02','03','04','05','06','07','08','09','10','11','12']\n",
    "\n",
    "\n",
    "#print(\"Início do download dos arquivos zip do atos do DOU\")\n",
    "main.show_current_time()\n",
    "print(\"--------------------------------------------------\")\n",
    "\n",
    "for year in anos:\n",
    "    urlopen =  url_base_dou + year \n",
    "    if year == '2017':\n",
    "        urlopen = 'http://dados.gov.br/dataset/diario-oficial-da-uniao'\n",
    "    #resp = req.urlopen(urlopen)\n",
    "    #conteudo = resp.read(int(resp.getheader('Content-Length')))  \n",
    "    #parsed_html = BeautifulSoup(StringIO(conteudo.decode(\"UTF-8\")))\n",
    "    #baixa_arquivos(parsed_html)\n",
    "    #print(\"Concluído o download dos arquivos zip do ano :\" + year)\n",
    "\n",
    "print(\"--------------------------------------------------\")\n",
    "#print(\"Término do download dos arquivos zip do atos do DOU\")\n",
    "print(\"Rotina desativada\")\n",
    "main.show_current_time()\n",
    "\n"
   ]
  },
  {
   "cell_type": "markdown",
   "metadata": {},
   "source": [
    "#### Gerando arquivos .CSV a partir do XML de artigos do DOU.\n",
    "<p> Arquivo XML origem </p>\n",
    "\n",
    "```xml\n",
    "<?xml version=\"1.0\"?>\n",
    "<xml>\n",
    "<article idMateria=\"19841008\" highlightimagename=\"\" highlightimage=\"\" highlight=\"\" highlightPriority=\"\" highlightType=\"\" editionNumber=\"164-B\" pdfPage=\"http://pesquisa.in.gov.br/imprensa/jsp/visualiza/index.jsp?data=29/08/2022&jornal=601&pagina=1\" numberPage=\"1\" artNotes=\"\" artSize=\"12\" artCategory=\"Ministério da Economia/Gabinete do Ministro\" artClass=\"00015:00001:00000:00000:00000:00000:00000:00000:00000:00000:00024:00001\" pubDate=\"29/08/2022\" artType=\"Portaria Conjunta\" pubName=\"DO1E\" idOficio=\"9058105\" name=\"Portaria Conjunta ME.BCB 7679 - \" id=\"27738641\">\n",
    "<body>\n",
    "<Identifica>\n",
    "<![CDATA[  PORTARIA CONJUNTA ME/BCB Nº 7.679, DE 25 DE AGOSTO DE 2022]]>\n",
    "</Identifica>\n",
    "<Data>\n",
    "<![CDATA[]]>\n",
    "</Data>\n",
    "<Ementa>\n",
    "<![CDATA[ Dispõe sobre a rentabilidade dos títulos da Dívida Pública Mobiliária Federal interna em poder do Banco Central do Brasil, a remuneração das disponibilidades de caixa da União e o percentual assegurado às entidades públicas que aplicam na Conta Única do Tesouro Nacional.]]>\n",
    "</Ementa>\n",
    "<Titulo/>\n",
    "<SubTitulo/>\n",
    "<Texto>\n",
    "<![CDATA[<p class=\"identifica\">PORTARIA CONJUNTA ME/BCB Nº 7.679, DE 25 DE AGOSTO DE 2022</p><p class=\"ementa\">Dispõe sobre a rentabilidade dos títulos da Dívida Pública Mobiliária Federal interna em poder do Banco Central do Brasil, a remuneração das disponibilidades de caixa da União e o percentual assegurado às entidades públicas que aplicam na Conta Única do Tesouro Nacional.</p><p>O MINISTRO DE ESTADO DA ECONOMIA, no uso da atribuição que lhe confere o art. 87, parágrafo único, inciso II, da Constituição, e o PRESIDENTE DO BANCO CENTRAL DO BRASIL, no uso de suas atribuições, tendo em vista o disposto na Medida Provisória nº 2.179-36, de 24 de agosto de 2001, resolvem:</p><p>Art. 1º Esta Portaria Conjunta dispõe sobre a rentabilidade dos títulos da Dívida Pública Mobiliária Federal interna em poder do Banco Central do Brasil, a remuneração das disponibilidades de caixa da União e o percentual assegurado às entidades públicas que aplicam na Conta Única do Tesouro Nacional.</p><p>Art. 2º A rentabilidade intrínseca dos títulos da Dívida Pública Mobiliária Federal interna de responsabilidade do Tesouro Nacional em poder do Banco Central do Brasil, de que trata o art. 1º da Medida Provisória nº 2.179-36, de 24 de agosto de 2001, compreende a taxa interna de retorno, calculada a partir do preço médio unitário de aquisição dos respectivos títulos pelo Banco Central do Brasil, acrescida da atualização do valor nominal de cada título, quando houver.</p><p>Parágrafo único. Para fins de cálculo diário da taxa interna de retorno dos títulos de que trata o caput, deverão ser utilizados duzentos e cinquenta e dois dias úteis como referência para o período de um ano.</p><p>Art. 3º Os títulos da Dívida Pública Mobiliária Federal interna de responsabilidade do Tesouro Nacional objeto de operações compromissadas de venda com compromisso de recompra, realizadas pelo Banco Central do Brasil com o mercado, integram a carteira com base na qual é calculada a taxa média aritmética ponderada das rentabilidades intrínsecas de que trata o art. 1º da Medida Provisória nº 2.179-36, de 2001.</p><p>Art. 4º O Banco Central do Brasil informará à Secretaria do Tesouro Nacional da Secretaria Especial do Tesouro e Orçamento do Ministério da Economia, no prazo de até dois dias úteis, o fator diário de remuneração das disponibilidades de caixa da União, bem como colocará à disposição, por meio eletrônico, dentre outras informações consideradas relevantes:</p><p>I - as memórias de cálculo que deram origem ao valor informado; e</p><p>II - o quadro demonstrativo da taxa interna de retorno utilizada no cálculo da rentabilidade intrínseca de cada título.</p><p>Parágrafo único. O fator diário de remuneração das disponibilidades de caixa da União é calculado com base na média aritmética ponderada da rentabilidade intrínseca dos títulos da Dívida Pública Mobiliária Federal interna de emissão do Tesouro Nacional em poder do Banco Central do Brasil.</p><p>Art. 5º Será assegurada, às entidades de que trata o § 2º do art. 2º da Medida Provisória nº 2.170-36, de 23 de agosto de 2001, a remuneração equivalente a noventa e oito por cento da remuneração paga pelo Banco Central do Brasil sobre os saldos da conta única do Tesouro Nacional.</p><p>Art. 6º Fica revogada a Portaria nº 6.224, de 13 de julho de 2022, do Ministério da Economia.</p><p>Parágrafo único. Ficam convalidados os atos praticados com base na Portaria nº 6.224, de 2022, do Ministério da Economia.</p><p>Art. 7º Esta Portaria entra em vigor na data de sua publicação.</p><p class=\"assina\">PAULO GUEDES</p><p class=\"cargo\">Ministro de Estado da Economia</p><p class=\"assina\">ROBERTO DE OLIVEIRA CAMPOS NETO</p><p class=\"cargo\">Presidente do Banco Central do Brasil</p>]]>\n",
    "</Texto>\n",
    "</body>\n",
    "<Midias/>\n",
    "</article>\n",
    "</xml>\n",
    "```\n",
    "\n",
    "<p> Arquivo CSV destino </p>\n",
    "\n",
    "| campo      | descrição |tipo| exemplo|\n",
    "| ----------- | ----------- |||\n",
    "| id | Identificador do artigo. Obtido a partir do nome do arquivo xml sem a extensão | String | 601_20220829_19841008|\n",
    "| tipo| Tipo do artigo do DOU (Portaria, Portaria Conjunta, Ato Declaratório, Ato, Aviso, etc...) | string | Ato Declaratório |\n",
    "| emissor| Unidade organizacional emissora do ato precedido pela hierárquia | String |Ministério da Economia/Gabinete do Ministro|\n",
    "| data| Data da publicação no DOU no formato DD/MM/AAAA | Date | 29/08/2022 |\n",
    "| responsavel| Responsável pela assinatura do ato | String | ROBERTO DE OLIVEIRA CAMPOS NETO|\n",
    "| cargo| Cargo do responsável pelo ato | String | Presidente do Banco Central do Brasil |\n",
    "\n"
   ]
  },
  {
   "cell_type": "code",
   "execution_count": 8,
   "metadata": {
    "scrolled": true
   },
   "outputs": [
    {
     "name": "stdout",
     "output_type": "stream",
     "text": [
      "Início da geração dos arquivos .csv para cada ano\n",
      "Current Time = 11/01/2023 10:03:35\n",
      "--------------------------------------------------\n",
      "arquivo já carregado: C:/projetos/tcc_dsa_usp_esalq/dados/dou/2019/2019.csv\n",
      "Tempo total: 2019: 0.001001119613647461\n",
      "Current Time = 11/01/2023 10:03:35\n",
      "arquivo já carregado: C:/projetos/tcc_dsa_usp_esalq/dados/dou/2020/2020.csv\n",
      "Tempo total: 2020: 0.0\n",
      "Current Time = 11/01/2023 10:03:35\n",
      "arquivo já carregado: C:/projetos/tcc_dsa_usp_esalq/dados/dou/2021/2021.csv\n",
      "Tempo total: 2021: 0.0\n",
      "Current Time = 11/01/2023 10:03:35\n",
      "arquivo já carregado: C:/projetos/tcc_dsa_usp_esalq/dados/dou/2022/2022.csv\n",
      "Tempo total: 2022: 0.0\n",
      "Current Time = 11/01/2023 10:03:35\n",
      "--------------------------------------------------\n",
      "Término do download dos arquivos zip do atos do DOU\n",
      "Current Time = 11/01/2023 10:03:35\n"
     ]
    }
   ],
   "source": [
    "def monta_linha(artigo,id,txt):\n",
    "    tipo= artigo.attrib['artType']\n",
    "    data=artigo.attrib['pubDate']\n",
    "    emissor=artigo.attrib['artCategory']\n",
    "    responsavel=\"\"\n",
    "    cargo=\"\"\n",
    "    if txt is not None:\n",
    "        texto = txt.split(\"\\\"assina\\\">\")\n",
    "        if(len(texto)>1):\n",
    "            texto1 = texto[1].split(\"</p><p class=\\\"cargo\\\">\")  \n",
    "            responsavel = texto1[0].split(\"<\")[0]\n",
    "            if \"cargo\" in texto[1] and len(texto1) > 1:\n",
    "                cargo = texto1[1].split(\"</p>\")[0]\n",
    "            responsavel=responsavel\n",
    "            \n",
    "    return [id,tipo,emissor,data,responsavel,cargo] \n",
    "\n",
    "def parser_xml_file(myfile,csvwriterunico):\n",
    "    id=myfile.name[:-4]  \n",
    "    tree = ElementTree.parse(myfile)  \n",
    "    artigo = tree.getroot().find('article')\n",
    "    texto = artigo.find('body').find('Texto')\n",
    "    linha = monta_linha(artigo,id,texto.text)\n",
    "    #contador = contador + 1\n",
    "    csvwriterunico.writerow(linha) \n",
    "    #count_ok = count_ok + 1\n",
    "    #except:\n",
    "    #    print(\"Error on parsing ...\" + myfile.name)\n",
    "    #    count_error = count_error + 1\n",
    "    \n",
    "\n",
    "def le_arquivo_zip(file_download,csvwriterunico):\n",
    "    isfile = os.path.isfile(file_download) \n",
    "    #print(file_download)\n",
    "    if isfile:  \n",
    "        with ZipFile(file_download, 'r') as myzip:\n",
    "            for name in myzip.namelist():\n",
    "                with myzip.open(name) as myfile:                            \n",
    "                    if myfile.name[-3:]  == 'xml':\n",
    "                        parser_xml_file(myfile,csvwriterunico)                        \n",
    "            myzip.close()\n",
    "\n",
    "def carrega_arquivo_csv(contador,count_error,csvwriterunico):\n",
    "    for mes in meses:\n",
    "        inim = time.time()\n",
    "        print(mes + \"|\", end = '')\n",
    "        for secao in secoes:\n",
    "            inip = time.time()\n",
    "            path = base_path +\"dou/\" + ano+'/'+mes+'/'+secao+'/'\n",
    "            os.chdir(path)      \n",
    "            count_ok = 0\n",
    "            mypath = path\n",
    "            file_download = path + 'S' + secao + mes + ano + '.zip'\n",
    "            le_arquivo_zip(file_download,csvwriterunico)            \n",
    "    \n",
    "\n",
    "anos = ['2019','2020','2021','2022']\n",
    "meses = ['01','02','03','04','05','06',\\\n",
    "         '07','08','09','10','11','12']\n",
    "secoes= ['01','02','03']          \n",
    "\n",
    "\n",
    "print(\"Início da geração dos arquivos .csv para cada ano\")\n",
    "main.show_current_time()\n",
    "print(\"--------------------------------------------------\")\n",
    "\n",
    "for ano in anos:\n",
    "    ini = time.time()\n",
    "    contador = 0\n",
    "    count_error = 0  \n",
    "    pasta = base_path +\"dou/\" + ano +'/'\n",
    "    os.chdir(pasta) \n",
    "    isfile = os.path.isfile(ano+'.csv') \n",
    "    #print(file_download)\n",
    "    if not isfile: \n",
    "        csvfileunico = open(ano+'.csv','w', newline='', encoding='utf-8')\n",
    "        csvwriterunico=csv.writer(csvfileunico)\n",
    "        col_names = ['id','tipo','emissor','data','responsavel','cargo'] \n",
    "        csvwriterunico.writerow(col_names)\n",
    "        print(pasta + ano+'.csv')    \n",
    "        carrega_arquivo_csv(contador,count_error,csvwriterunico)\n",
    "        csvfileunico.close()\n",
    "    else:\n",
    "        print(\"arquivo já carregado: \" + pasta + ano+'.csv')\n",
    "    fim = time.time()\n",
    "\n",
    "    print(\"Tempo total: \" + ano + \": \" + str(fim-ini))\n",
    "    main.show_current_time()\n",
    "    #print(\"qtd OK\" , contador)\n",
    "    #print(\"qtd ERRO\" , count_error)\n",
    "    \n",
    "print(\"--------------------------------------------------\")\n",
    "print(\"Término do download dos arquivos zip do atos do DOU\")\n",
    "main.show_current_time()\n"
   ]
  },
  {
   "cell_type": "code",
   "execution_count": null,
   "metadata": {},
   "outputs": [],
   "source": []
  }
 ],
 "metadata": {
  "celltoolbar": "Slideshow",
  "colab": {
   "collapsed_sections": [],
   "name": "FonteDeDados.ipynb",
   "provenance": []
  },
  "kernelspec": {
   "display_name": "Python 3 (ipykernel)",
   "language": "python",
   "name": "python3"
  },
  "language_info": {
   "codemirror_mode": {
    "name": "ipython",
    "version": 3
   },
   "file_extension": ".py",
   "mimetype": "text/x-python",
   "name": "python",
   "nbconvert_exporter": "python",
   "pygments_lexer": "ipython3",
   "version": "3.9.12"
  }
 },
 "nbformat": 4,
 "nbformat_minor": 4
}
